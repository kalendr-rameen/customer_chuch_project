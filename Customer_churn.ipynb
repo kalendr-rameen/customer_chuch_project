{
 "cells": [
  {
   "cell_type": "markdown",
   "metadata": {},
   "source": [
    "# Отток клиентов"
   ]
  },
  {
   "cell_type": "markdown",
   "metadata": {},
   "source": [
    "Из «Бета-Банка» стали уходить клиенты. Каждый месяц. Немного, но заметно. Банковские маркетологи посчитали: сохранять текущих клиентов дешевле, чем привлекать новых.\n",
    "\n",
    "Нужно спрогнозировать, уйдёт клиент из банка в ближайшее время или нет. Нам предоставлены исторические данные о поведении клиентов и расторжении договоров с банком. \n",
    "\n",
    "Нужно постройте модель с предельно большим значением *F1*-меры. Чтобы сдать проект успешно, нужно довести метрику до 0.59. Также необходимо проверить *F1*-меру на тестовой выборке самостоятельно.\n",
    "\n",
    "Дополнительно измеряйте *AUC-ROC*, сравнивайте её значение с *F1*-мерой.\n",
    "\n",
    "Источник данных: [https://www.kaggle.com/barelydedicated/bank-customer-churn-modeling](https://www.kaggle.com/barelydedicated/bank-customer-churn-modeling)"
   ]
  },
  {
   "cell_type": "markdown",
   "metadata": {
    "toc": true
   },
   "source": [
    "<h1>Содержание<span class=\"tocSkip\"></span></h1>\n",
    "<div class=\"toc\"><ul class=\"toc-item\"><li><span><a href=\"#Подготовка-данных\" data-toc-modified-id=\"Подготовка-данных-1\"><span class=\"toc-item-num\">1&nbsp;&nbsp;</span>Подготовка данных</a></span><ul class=\"toc-item\"><li><span><a href=\"#Вывод\" data-toc-modified-id=\"Вывод-1.1\"><span class=\"toc-item-num\">1.1&nbsp;&nbsp;</span><strong>Вывод</strong></a></span></li></ul></li><li><span><a href=\"#Исследование-задачи\" data-toc-modified-id=\"Исследование-задачи-2\"><span class=\"toc-item-num\">2&nbsp;&nbsp;</span>Исследование задачи</a></span><ul class=\"toc-item\"><li><ul class=\"toc-item\"><li><span><a href=\"#Исследуем-1-ю-модель-(Логистическая-регрессия)\" data-toc-modified-id=\"Исследуем-1-ю-модель-(Логистическая-регрессия)-2.0.1\"><span class=\"toc-item-num\">2.0.1&nbsp;&nbsp;</span>Исследуем <code>1-ю модель (Логистическая регрессия)</code></a></span></li><li><span><a href=\"#Исследуем-2-ю-модель-(Дерево-решений)\" data-toc-modified-id=\"Исследуем-2-ю-модель-(Дерево-решений)-2.0.2\"><span class=\"toc-item-num\">2.0.2&nbsp;&nbsp;</span>Исследуем <code>2-ю модель (Дерево решений)</code></a></span></li><li><span><a href=\"#Исследуем-3-ю-модель-(Случайный-лес)\" data-toc-modified-id=\"Исследуем-3-ю-модель-(Случайный-лес)-2.0.3\"><span class=\"toc-item-num\">2.0.3&nbsp;&nbsp;</span>Исследуем <code>3-ю модель (Случайный лес)</code></a></span></li></ul></li></ul></li><li><span><a href=\"#Борьба-с-дисбалансом\" data-toc-modified-id=\"Борьба-с-дисбалансом-3\"><span class=\"toc-item-num\">3&nbsp;&nbsp;</span>Борьба с дисбалансом</a></span><ul class=\"toc-item\"><li><span><a href=\"#Первый-метод-борьбы-с-дисбалансом-мы-выбрали-применение-параметра-class_weight='balanced'.\" data-toc-modified-id=\"Первый-метод-борьбы-с-дисбалансом-мы-выбрали-применение-параметра-class_weight='balanced'.-3.1\"><span class=\"toc-item-num\">3.1&nbsp;&nbsp;</span>Первый метод борьбы с дисбалансом мы выбрали применение параметра <code>class_weight='balanced'</code>.</a></span><ul class=\"toc-item\"><li><span><a href=\"#Сначала-применяем-к-1-ой-модели-(логистическая-регрессия)\" data-toc-modified-id=\"Сначала-применяем-к-1-ой-модели-(логистическая-регрессия)-3.1.1\"><span class=\"toc-item-num\">3.1.1&nbsp;&nbsp;</span>Сначала применяем к <code>1-ой модели (логистическая регрессия)</code></a></span></li><li><span><a href=\"#Исследуем-2-ю-модель-(Дерево-решений)\" data-toc-modified-id=\"Исследуем-2-ю-модель-(Дерево-решений)-3.1.2\"><span class=\"toc-item-num\">3.1.2&nbsp;&nbsp;</span>Исследуем <code>2-ю модель (Дерево решений)</code></a></span></li><li><span><a href=\"#Исследуем-3-ю-модель-(Случайный-лес)\" data-toc-modified-id=\"Исследуем-3-ю-модель-(Случайный-лес)-3.1.3\"><span class=\"toc-item-num\">3.1.3&nbsp;&nbsp;</span>Исследуем <code>3-ю модель (Случайный лес)</code></a></span></li></ul></li><li><span><a href=\"#Попытаемся-применить-второй-метод-борьбы-с-дисбалансом-а-именно-upsampling,-т.е-мы-будем-искуственно-увеличивать-размер-выборки.\" data-toc-modified-id=\"Попытаемся-применить-второй-метод-борьбы-с-дисбалансом-а-именно-upsampling,-т.е-мы-будем-искуственно-увеличивать-размер-выборки.-3.2\"><span class=\"toc-item-num\">3.2&nbsp;&nbsp;</span>Попытаемся применить <strong>второй метод борьбы с дисбалансом</strong> а именно <code>upsampling</code>, т.е мы будем искуственно увеличивать размер выборки.</a></span><ul class=\"toc-item\"><li><span><a href=\"#Теперь-применяем-полученные-данные-для-обучения-1-ой-модели-(логистическая-регрессия)\" data-toc-modified-id=\"Теперь-применяем-полученные-данные-для-обучения-1-ой-модели-(логистическая-регрессия)-3.2.1\"><span class=\"toc-item-num\">3.2.1&nbsp;&nbsp;</span>Теперь применяем полученные данные для обучения <code>1-ой модели (логистическая регрессия)</code></a></span></li><li><span><a href=\"#Теперь-применяем-полученные-данные-для-обучения-2-ой-модели-(Дерево-решений)\" data-toc-modified-id=\"Теперь-применяем-полученные-данные-для-обучения-2-ой-модели-(Дерево-решений)-3.2.2\"><span class=\"toc-item-num\">3.2.2&nbsp;&nbsp;</span>Теперь применяем полученные данные для обучения <code>2-ой модели (Дерево решений)</code></a></span></li><li><span><a href=\"#Теперь-применяем-полученные-данные-для-обучения-3-ей-модели-(Дерево-решений)\" data-toc-modified-id=\"Теперь-применяем-полученные-данные-для-обучения-3-ей-модели-(Дерево-решений)-3.2.3\"><span class=\"toc-item-num\">3.2.3&nbsp;&nbsp;</span>Теперь применяем полученные данные для обучения 3-ей модели (Дерево решений)</a></span></li></ul></li></ul></li><li><span><a href=\"#Тестирование-модели\" data-toc-modified-id=\"Тестирование-модели-4\"><span class=\"toc-item-num\">4&nbsp;&nbsp;</span>Тестирование модели</a></span></li><li><span><a href=\"#Чек-лист-готовности-проекта\" data-toc-modified-id=\"Чек-лист-готовности-проекта-5\"><span class=\"toc-item-num\">5&nbsp;&nbsp;</span>Чек-лист готовности проекта</a></span></li></ul></div>"
   ]
  },
  {
   "cell_type": "markdown",
   "metadata": {},
   "source": [
    "## 1. Подготовка данных"
   ]
  },
  {
   "cell_type": "code",
   "execution_count": 1,
   "metadata": {},
   "outputs": [],
   "source": [
    "import pandas as pd \n",
    "import numpy as np\n",
    "from sklearn.preprocessing import StandardScaler\n",
    "\n",
    "df = pd.read_csv('/datasets/Churn.csv')\n",
    "df = df.drop(['RowNumber', 'CustomerId', 'Surname'], axis=1)"
   ]
  },
  {
   "cell_type": "markdown",
   "metadata": {},
   "source": [
    "Первый делом я решил избавиться от ненужных данных при обучение поскольку такие данные будут лишь успложнять построенную модель и скорее всего приведут к ошибкам"
   ]
  },
  {
   "cell_type": "code",
   "execution_count": 2,
   "metadata": {},
   "outputs": [
    {
     "name": "stdout",
     "output_type": "stream",
     "text": [
      "<class 'pandas.core.frame.DataFrame'>\n",
      "RangeIndex: 10000 entries, 0 to 9999\n",
      "Data columns (total 11 columns):\n",
      " #   Column           Non-Null Count  Dtype  \n",
      "---  ------           --------------  -----  \n",
      " 0   CreditScore      10000 non-null  int64  \n",
      " 1   Geography        10000 non-null  object \n",
      " 2   Gender           10000 non-null  object \n",
      " 3   Age              10000 non-null  int64  \n",
      " 4   Tenure           9091 non-null   float64\n",
      " 5   Balance          10000 non-null  float64\n",
      " 6   NumOfProducts    10000 non-null  int64  \n",
      " 7   HasCrCard        10000 non-null  int64  \n",
      " 8   IsActiveMember   10000 non-null  int64  \n",
      " 9   EstimatedSalary  10000 non-null  float64\n",
      " 10  Exited           10000 non-null  int64  \n",
      "dtypes: float64(3), int64(6), object(2)\n",
      "memory usage: 859.5+ KB\n"
     ]
    }
   ],
   "source": [
    "df.info()"
   ]
  },
  {
   "cell_type": "markdown",
   "metadata": {},
   "source": [
    "Видно, что у нас есть пропущенные данные в колонке `tenure`, посмотрим на данные поближе чтобы понять если ли какие либо различия у этих обьектов от остальных, но прежде привёдём названия столбцов к нижнему регистру."
   ]
  },
  {
   "cell_type": "code",
   "execution_count": 3,
   "metadata": {},
   "outputs": [],
   "source": [
    "df.columns = df.columns.str.lower()"
   ]
  },
  {
   "cell_type": "code",
   "execution_count": 4,
   "metadata": {},
   "outputs": [
    {
     "data": {
      "text/html": [
       "<div>\n",
       "<style scoped>\n",
       "    .dataframe tbody tr th:only-of-type {\n",
       "        vertical-align: middle;\n",
       "    }\n",
       "\n",
       "    .dataframe tbody tr th {\n",
       "        vertical-align: top;\n",
       "    }\n",
       "\n",
       "    .dataframe thead th {\n",
       "        text-align: right;\n",
       "    }\n",
       "</style>\n",
       "<table border=\"1\" class=\"dataframe\">\n",
       "  <thead>\n",
       "    <tr style=\"text-align: right;\">\n",
       "      <th></th>\n",
       "      <th>creditscore</th>\n",
       "      <th>age</th>\n",
       "      <th>tenure</th>\n",
       "      <th>balance</th>\n",
       "      <th>numofproducts</th>\n",
       "      <th>hascrcard</th>\n",
       "      <th>isactivemember</th>\n",
       "      <th>estimatedsalary</th>\n",
       "      <th>exited</th>\n",
       "    </tr>\n",
       "  </thead>\n",
       "  <tbody>\n",
       "    <tr>\n",
       "      <th>count</th>\n",
       "      <td>10000.000000</td>\n",
       "      <td>10000.000000</td>\n",
       "      <td>9091.000000</td>\n",
       "      <td>10000.000000</td>\n",
       "      <td>10000.000000</td>\n",
       "      <td>10000.00000</td>\n",
       "      <td>10000.000000</td>\n",
       "      <td>10000.000000</td>\n",
       "      <td>10000.000000</td>\n",
       "    </tr>\n",
       "    <tr>\n",
       "      <th>mean</th>\n",
       "      <td>650.528800</td>\n",
       "      <td>38.921800</td>\n",
       "      <td>4.997690</td>\n",
       "      <td>76485.889288</td>\n",
       "      <td>1.530200</td>\n",
       "      <td>0.70550</td>\n",
       "      <td>0.515100</td>\n",
       "      <td>100090.239881</td>\n",
       "      <td>0.203700</td>\n",
       "    </tr>\n",
       "    <tr>\n",
       "      <th>std</th>\n",
       "      <td>96.653299</td>\n",
       "      <td>10.487806</td>\n",
       "      <td>2.894723</td>\n",
       "      <td>62397.405202</td>\n",
       "      <td>0.581654</td>\n",
       "      <td>0.45584</td>\n",
       "      <td>0.499797</td>\n",
       "      <td>57510.492818</td>\n",
       "      <td>0.402769</td>\n",
       "    </tr>\n",
       "    <tr>\n",
       "      <th>min</th>\n",
       "      <td>350.000000</td>\n",
       "      <td>18.000000</td>\n",
       "      <td>0.000000</td>\n",
       "      <td>0.000000</td>\n",
       "      <td>1.000000</td>\n",
       "      <td>0.00000</td>\n",
       "      <td>0.000000</td>\n",
       "      <td>11.580000</td>\n",
       "      <td>0.000000</td>\n",
       "    </tr>\n",
       "    <tr>\n",
       "      <th>25%</th>\n",
       "      <td>584.000000</td>\n",
       "      <td>32.000000</td>\n",
       "      <td>2.000000</td>\n",
       "      <td>0.000000</td>\n",
       "      <td>1.000000</td>\n",
       "      <td>0.00000</td>\n",
       "      <td>0.000000</td>\n",
       "      <td>51002.110000</td>\n",
       "      <td>0.000000</td>\n",
       "    </tr>\n",
       "    <tr>\n",
       "      <th>50%</th>\n",
       "      <td>652.000000</td>\n",
       "      <td>37.000000</td>\n",
       "      <td>5.000000</td>\n",
       "      <td>97198.540000</td>\n",
       "      <td>1.000000</td>\n",
       "      <td>1.00000</td>\n",
       "      <td>1.000000</td>\n",
       "      <td>100193.915000</td>\n",
       "      <td>0.000000</td>\n",
       "    </tr>\n",
       "    <tr>\n",
       "      <th>75%</th>\n",
       "      <td>718.000000</td>\n",
       "      <td>44.000000</td>\n",
       "      <td>7.000000</td>\n",
       "      <td>127644.240000</td>\n",
       "      <td>2.000000</td>\n",
       "      <td>1.00000</td>\n",
       "      <td>1.000000</td>\n",
       "      <td>149388.247500</td>\n",
       "      <td>0.000000</td>\n",
       "    </tr>\n",
       "    <tr>\n",
       "      <th>max</th>\n",
       "      <td>850.000000</td>\n",
       "      <td>92.000000</td>\n",
       "      <td>10.000000</td>\n",
       "      <td>250898.090000</td>\n",
       "      <td>4.000000</td>\n",
       "      <td>1.00000</td>\n",
       "      <td>1.000000</td>\n",
       "      <td>199992.480000</td>\n",
       "      <td>1.000000</td>\n",
       "    </tr>\n",
       "  </tbody>\n",
       "</table>\n",
       "</div>"
      ],
      "text/plain": [
       "        creditscore           age       tenure        balance  numofproducts  \\\n",
       "count  10000.000000  10000.000000  9091.000000   10000.000000   10000.000000   \n",
       "mean     650.528800     38.921800     4.997690   76485.889288       1.530200   \n",
       "std       96.653299     10.487806     2.894723   62397.405202       0.581654   \n",
       "min      350.000000     18.000000     0.000000       0.000000       1.000000   \n",
       "25%      584.000000     32.000000     2.000000       0.000000       1.000000   \n",
       "50%      652.000000     37.000000     5.000000   97198.540000       1.000000   \n",
       "75%      718.000000     44.000000     7.000000  127644.240000       2.000000   \n",
       "max      850.000000     92.000000    10.000000  250898.090000       4.000000   \n",
       "\n",
       "         hascrcard  isactivemember  estimatedsalary        exited  \n",
       "count  10000.00000    10000.000000     10000.000000  10000.000000  \n",
       "mean       0.70550        0.515100    100090.239881      0.203700  \n",
       "std        0.45584        0.499797     57510.492818      0.402769  \n",
       "min        0.00000        0.000000        11.580000      0.000000  \n",
       "25%        0.00000        0.000000     51002.110000      0.000000  \n",
       "50%        1.00000        1.000000    100193.915000      0.000000  \n",
       "75%        1.00000        1.000000    149388.247500      0.000000  \n",
       "max        1.00000        1.000000    199992.480000      1.000000  "
      ]
     },
     "execution_count": 4,
     "metadata": {},
     "output_type": "execute_result"
    }
   ],
   "source": [
    "df.describe()"
   ]
  },
  {
   "cell_type": "code",
   "execution_count": 5,
   "metadata": {},
   "outputs": [
    {
     "data": {
      "text/html": [
       "<div>\n",
       "<style scoped>\n",
       "    .dataframe tbody tr th:only-of-type {\n",
       "        vertical-align: middle;\n",
       "    }\n",
       "\n",
       "    .dataframe tbody tr th {\n",
       "        vertical-align: top;\n",
       "    }\n",
       "\n",
       "    .dataframe thead th {\n",
       "        text-align: right;\n",
       "    }\n",
       "</style>\n",
       "<table border=\"1\" class=\"dataframe\">\n",
       "  <thead>\n",
       "    <tr style=\"text-align: right;\">\n",
       "      <th></th>\n",
       "      <th>creditscore</th>\n",
       "      <th>geography</th>\n",
       "      <th>gender</th>\n",
       "      <th>age</th>\n",
       "      <th>tenure</th>\n",
       "      <th>balance</th>\n",
       "      <th>numofproducts</th>\n",
       "      <th>hascrcard</th>\n",
       "      <th>isactivemember</th>\n",
       "      <th>estimatedsalary</th>\n",
       "      <th>exited</th>\n",
       "    </tr>\n",
       "  </thead>\n",
       "  <tbody>\n",
       "    <tr>\n",
       "      <th>0</th>\n",
       "      <td>619</td>\n",
       "      <td>France</td>\n",
       "      <td>Female</td>\n",
       "      <td>42</td>\n",
       "      <td>2.0</td>\n",
       "      <td>0.00</td>\n",
       "      <td>1</td>\n",
       "      <td>1</td>\n",
       "      <td>1</td>\n",
       "      <td>101348.88</td>\n",
       "      <td>1</td>\n",
       "    </tr>\n",
       "    <tr>\n",
       "      <th>1</th>\n",
       "      <td>608</td>\n",
       "      <td>Spain</td>\n",
       "      <td>Female</td>\n",
       "      <td>41</td>\n",
       "      <td>1.0</td>\n",
       "      <td>83807.86</td>\n",
       "      <td>1</td>\n",
       "      <td>0</td>\n",
       "      <td>1</td>\n",
       "      <td>112542.58</td>\n",
       "      <td>0</td>\n",
       "    </tr>\n",
       "    <tr>\n",
       "      <th>2</th>\n",
       "      <td>502</td>\n",
       "      <td>France</td>\n",
       "      <td>Female</td>\n",
       "      <td>42</td>\n",
       "      <td>8.0</td>\n",
       "      <td>159660.80</td>\n",
       "      <td>3</td>\n",
       "      <td>1</td>\n",
       "      <td>0</td>\n",
       "      <td>113931.57</td>\n",
       "      <td>1</td>\n",
       "    </tr>\n",
       "    <tr>\n",
       "      <th>3</th>\n",
       "      <td>699</td>\n",
       "      <td>France</td>\n",
       "      <td>Female</td>\n",
       "      <td>39</td>\n",
       "      <td>1.0</td>\n",
       "      <td>0.00</td>\n",
       "      <td>2</td>\n",
       "      <td>0</td>\n",
       "      <td>0</td>\n",
       "      <td>93826.63</td>\n",
       "      <td>0</td>\n",
       "    </tr>\n",
       "    <tr>\n",
       "      <th>4</th>\n",
       "      <td>850</td>\n",
       "      <td>Spain</td>\n",
       "      <td>Female</td>\n",
       "      <td>43</td>\n",
       "      <td>2.0</td>\n",
       "      <td>125510.82</td>\n",
       "      <td>1</td>\n",
       "      <td>1</td>\n",
       "      <td>1</td>\n",
       "      <td>79084.10</td>\n",
       "      <td>0</td>\n",
       "    </tr>\n",
       "    <tr>\n",
       "      <th>5</th>\n",
       "      <td>645</td>\n",
       "      <td>Spain</td>\n",
       "      <td>Male</td>\n",
       "      <td>44</td>\n",
       "      <td>8.0</td>\n",
       "      <td>113755.78</td>\n",
       "      <td>2</td>\n",
       "      <td>1</td>\n",
       "      <td>0</td>\n",
       "      <td>149756.71</td>\n",
       "      <td>1</td>\n",
       "    </tr>\n",
       "    <tr>\n",
       "      <th>6</th>\n",
       "      <td>822</td>\n",
       "      <td>France</td>\n",
       "      <td>Male</td>\n",
       "      <td>50</td>\n",
       "      <td>7.0</td>\n",
       "      <td>0.00</td>\n",
       "      <td>2</td>\n",
       "      <td>1</td>\n",
       "      <td>1</td>\n",
       "      <td>10062.80</td>\n",
       "      <td>0</td>\n",
       "    </tr>\n",
       "    <tr>\n",
       "      <th>7</th>\n",
       "      <td>376</td>\n",
       "      <td>Germany</td>\n",
       "      <td>Female</td>\n",
       "      <td>29</td>\n",
       "      <td>4.0</td>\n",
       "      <td>115046.74</td>\n",
       "      <td>4</td>\n",
       "      <td>1</td>\n",
       "      <td>0</td>\n",
       "      <td>119346.88</td>\n",
       "      <td>1</td>\n",
       "    </tr>\n",
       "    <tr>\n",
       "      <th>8</th>\n",
       "      <td>501</td>\n",
       "      <td>France</td>\n",
       "      <td>Male</td>\n",
       "      <td>44</td>\n",
       "      <td>4.0</td>\n",
       "      <td>142051.07</td>\n",
       "      <td>2</td>\n",
       "      <td>0</td>\n",
       "      <td>1</td>\n",
       "      <td>74940.50</td>\n",
       "      <td>0</td>\n",
       "    </tr>\n",
       "    <tr>\n",
       "      <th>9</th>\n",
       "      <td>684</td>\n",
       "      <td>France</td>\n",
       "      <td>Male</td>\n",
       "      <td>27</td>\n",
       "      <td>2.0</td>\n",
       "      <td>134603.88</td>\n",
       "      <td>1</td>\n",
       "      <td>1</td>\n",
       "      <td>1</td>\n",
       "      <td>71725.73</td>\n",
       "      <td>0</td>\n",
       "    </tr>\n",
       "  </tbody>\n",
       "</table>\n",
       "</div>"
      ],
      "text/plain": [
       "   creditscore geography  gender  age  tenure    balance  numofproducts  \\\n",
       "0          619    France  Female   42     2.0       0.00              1   \n",
       "1          608     Spain  Female   41     1.0   83807.86              1   \n",
       "2          502    France  Female   42     8.0  159660.80              3   \n",
       "3          699    France  Female   39     1.0       0.00              2   \n",
       "4          850     Spain  Female   43     2.0  125510.82              1   \n",
       "5          645     Spain    Male   44     8.0  113755.78              2   \n",
       "6          822    France    Male   50     7.0       0.00              2   \n",
       "7          376   Germany  Female   29     4.0  115046.74              4   \n",
       "8          501    France    Male   44     4.0  142051.07              2   \n",
       "9          684    France    Male   27     2.0  134603.88              1   \n",
       "\n",
       "   hascrcard  isactivemember  estimatedsalary  exited  \n",
       "0          1               1        101348.88       1  \n",
       "1          0               1        112542.58       0  \n",
       "2          1               0        113931.57       1  \n",
       "3          0               0         93826.63       0  \n",
       "4          1               1         79084.10       0  \n",
       "5          1               0        149756.71       1  \n",
       "6          1               1         10062.80       0  \n",
       "7          1               0        119346.88       1  \n",
       "8          0               1         74940.50       0  \n",
       "9          1               1         71725.73       0  "
      ]
     },
     "execution_count": 5,
     "metadata": {},
     "output_type": "execute_result"
    }
   ],
   "source": [
    "df.head(10)"
   ]
  },
  {
   "cell_type": "code",
   "execution_count": 6,
   "metadata": {},
   "outputs": [
    {
     "data": {
      "text/html": [
       "<div>\n",
       "<style scoped>\n",
       "    .dataframe tbody tr th:only-of-type {\n",
       "        vertical-align: middle;\n",
       "    }\n",
       "\n",
       "    .dataframe tbody tr th {\n",
       "        vertical-align: top;\n",
       "    }\n",
       "\n",
       "    .dataframe thead th {\n",
       "        text-align: right;\n",
       "    }\n",
       "</style>\n",
       "<table border=\"1\" class=\"dataframe\">\n",
       "  <thead>\n",
       "    <tr style=\"text-align: right;\">\n",
       "      <th></th>\n",
       "      <th>creditscore</th>\n",
       "      <th>geography</th>\n",
       "      <th>gender</th>\n",
       "      <th>age</th>\n",
       "      <th>tenure</th>\n",
       "      <th>balance</th>\n",
       "      <th>numofproducts</th>\n",
       "      <th>hascrcard</th>\n",
       "      <th>isactivemember</th>\n",
       "      <th>estimatedsalary</th>\n",
       "      <th>exited</th>\n",
       "    </tr>\n",
       "  </thead>\n",
       "  <tbody>\n",
       "    <tr>\n",
       "      <th>30</th>\n",
       "      <td>591</td>\n",
       "      <td>Spain</td>\n",
       "      <td>Female</td>\n",
       "      <td>39</td>\n",
       "      <td>NaN</td>\n",
       "      <td>0.00</td>\n",
       "      <td>3</td>\n",
       "      <td>1</td>\n",
       "      <td>0</td>\n",
       "      <td>140469.38</td>\n",
       "      <td>1</td>\n",
       "    </tr>\n",
       "    <tr>\n",
       "      <th>48</th>\n",
       "      <td>550</td>\n",
       "      <td>Germany</td>\n",
       "      <td>Male</td>\n",
       "      <td>38</td>\n",
       "      <td>NaN</td>\n",
       "      <td>103391.38</td>\n",
       "      <td>1</td>\n",
       "      <td>0</td>\n",
       "      <td>1</td>\n",
       "      <td>90878.13</td>\n",
       "      <td>0</td>\n",
       "    </tr>\n",
       "    <tr>\n",
       "      <th>51</th>\n",
       "      <td>585</td>\n",
       "      <td>Germany</td>\n",
       "      <td>Male</td>\n",
       "      <td>36</td>\n",
       "      <td>NaN</td>\n",
       "      <td>146050.97</td>\n",
       "      <td>2</td>\n",
       "      <td>0</td>\n",
       "      <td>0</td>\n",
       "      <td>86424.57</td>\n",
       "      <td>0</td>\n",
       "    </tr>\n",
       "    <tr>\n",
       "      <th>53</th>\n",
       "      <td>655</td>\n",
       "      <td>Germany</td>\n",
       "      <td>Male</td>\n",
       "      <td>41</td>\n",
       "      <td>NaN</td>\n",
       "      <td>125561.97</td>\n",
       "      <td>1</td>\n",
       "      <td>0</td>\n",
       "      <td>0</td>\n",
       "      <td>164040.94</td>\n",
       "      <td>1</td>\n",
       "    </tr>\n",
       "    <tr>\n",
       "      <th>60</th>\n",
       "      <td>742</td>\n",
       "      <td>Germany</td>\n",
       "      <td>Male</td>\n",
       "      <td>35</td>\n",
       "      <td>NaN</td>\n",
       "      <td>136857.00</td>\n",
       "      <td>1</td>\n",
       "      <td>0</td>\n",
       "      <td>0</td>\n",
       "      <td>84509.57</td>\n",
       "      <td>0</td>\n",
       "    </tr>\n",
       "    <tr>\n",
       "      <th>82</th>\n",
       "      <td>543</td>\n",
       "      <td>France</td>\n",
       "      <td>Female</td>\n",
       "      <td>36</td>\n",
       "      <td>NaN</td>\n",
       "      <td>0.00</td>\n",
       "      <td>2</td>\n",
       "      <td>0</td>\n",
       "      <td>0</td>\n",
       "      <td>26019.59</td>\n",
       "      <td>0</td>\n",
       "    </tr>\n",
       "    <tr>\n",
       "      <th>85</th>\n",
       "      <td>652</td>\n",
       "      <td>Spain</td>\n",
       "      <td>Female</td>\n",
       "      <td>75</td>\n",
       "      <td>NaN</td>\n",
       "      <td>0.00</td>\n",
       "      <td>2</td>\n",
       "      <td>1</td>\n",
       "      <td>1</td>\n",
       "      <td>114675.75</td>\n",
       "      <td>0</td>\n",
       "    </tr>\n",
       "    <tr>\n",
       "      <th>94</th>\n",
       "      <td>730</td>\n",
       "      <td>Spain</td>\n",
       "      <td>Male</td>\n",
       "      <td>42</td>\n",
       "      <td>NaN</td>\n",
       "      <td>0.00</td>\n",
       "      <td>2</td>\n",
       "      <td>0</td>\n",
       "      <td>1</td>\n",
       "      <td>85982.47</td>\n",
       "      <td>0</td>\n",
       "    </tr>\n",
       "    <tr>\n",
       "      <th>99</th>\n",
       "      <td>413</td>\n",
       "      <td>France</td>\n",
       "      <td>Male</td>\n",
       "      <td>34</td>\n",
       "      <td>NaN</td>\n",
       "      <td>0.00</td>\n",
       "      <td>2</td>\n",
       "      <td>0</td>\n",
       "      <td>0</td>\n",
       "      <td>6534.18</td>\n",
       "      <td>0</td>\n",
       "    </tr>\n",
       "    <tr>\n",
       "      <th>111</th>\n",
       "      <td>538</td>\n",
       "      <td>Germany</td>\n",
       "      <td>Male</td>\n",
       "      <td>39</td>\n",
       "      <td>NaN</td>\n",
       "      <td>108055.10</td>\n",
       "      <td>2</td>\n",
       "      <td>1</td>\n",
       "      <td>0</td>\n",
       "      <td>27231.26</td>\n",
       "      <td>0</td>\n",
       "    </tr>\n",
       "  </tbody>\n",
       "</table>\n",
       "</div>"
      ],
      "text/plain": [
       "     creditscore geography  gender  age  tenure    balance  numofproducts  \\\n",
       "30           591     Spain  Female   39     NaN       0.00              3   \n",
       "48           550   Germany    Male   38     NaN  103391.38              1   \n",
       "51           585   Germany    Male   36     NaN  146050.97              2   \n",
       "53           655   Germany    Male   41     NaN  125561.97              1   \n",
       "60           742   Germany    Male   35     NaN  136857.00              1   \n",
       "82           543    France  Female   36     NaN       0.00              2   \n",
       "85           652     Spain  Female   75     NaN       0.00              2   \n",
       "94           730     Spain    Male   42     NaN       0.00              2   \n",
       "99           413    France    Male   34     NaN       0.00              2   \n",
       "111          538   Germany    Male   39     NaN  108055.10              2   \n",
       "\n",
       "     hascrcard  isactivemember  estimatedsalary  exited  \n",
       "30           1               0        140469.38       1  \n",
       "48           0               1         90878.13       0  \n",
       "51           0               0         86424.57       0  \n",
       "53           0               0        164040.94       1  \n",
       "60           0               0         84509.57       0  \n",
       "82           0               0         26019.59       0  \n",
       "85           1               1        114675.75       0  \n",
       "94           0               1         85982.47       0  \n",
       "99           0               0          6534.18       0  \n",
       "111          1               0         27231.26       0  "
      ]
     },
     "execution_count": 6,
     "metadata": {},
     "output_type": "execute_result"
    }
   ],
   "source": [
    "df[df.isna().any(axis=1)].head(10)"
   ]
  },
  {
   "cell_type": "code",
   "execution_count": 7,
   "metadata": {},
   "outputs": [
    {
     "data": {
      "text/html": [
       "<div>\n",
       "<style scoped>\n",
       "    .dataframe tbody tr th:only-of-type {\n",
       "        vertical-align: middle;\n",
       "    }\n",
       "\n",
       "    .dataframe tbody tr th {\n",
       "        vertical-align: top;\n",
       "    }\n",
       "\n",
       "    .dataframe thead th {\n",
       "        text-align: right;\n",
       "    }\n",
       "</style>\n",
       "<table border=\"1\" class=\"dataframe\">\n",
       "  <thead>\n",
       "    <tr style=\"text-align: right;\">\n",
       "      <th></th>\n",
       "      <th>creditscore</th>\n",
       "      <th>age</th>\n",
       "      <th>tenure</th>\n",
       "      <th>balance</th>\n",
       "      <th>numofproducts</th>\n",
       "      <th>hascrcard</th>\n",
       "      <th>isactivemember</th>\n",
       "      <th>estimatedsalary</th>\n",
       "      <th>exited</th>\n",
       "    </tr>\n",
       "  </thead>\n",
       "  <tbody>\n",
       "    <tr>\n",
       "      <th>count</th>\n",
       "      <td>909.000000</td>\n",
       "      <td>909.000000</td>\n",
       "      <td>0.0</td>\n",
       "      <td>909.000000</td>\n",
       "      <td>909.000000</td>\n",
       "      <td>909.000000</td>\n",
       "      <td>909.000000</td>\n",
       "      <td>909.000000</td>\n",
       "      <td>909.000000</td>\n",
       "    </tr>\n",
       "    <tr>\n",
       "      <th>mean</th>\n",
       "      <td>648.451045</td>\n",
       "      <td>38.647965</td>\n",
       "      <td>NaN</td>\n",
       "      <td>76117.341474</td>\n",
       "      <td>1.530253</td>\n",
       "      <td>0.710671</td>\n",
       "      <td>0.510451</td>\n",
       "      <td>99180.389373</td>\n",
       "      <td>0.201320</td>\n",
       "    </tr>\n",
       "    <tr>\n",
       "      <th>std</th>\n",
       "      <td>99.079381</td>\n",
       "      <td>9.785438</td>\n",
       "      <td>NaN</td>\n",
       "      <td>63105.690715</td>\n",
       "      <td>0.588452</td>\n",
       "      <td>0.453701</td>\n",
       "      <td>0.500166</td>\n",
       "      <td>56378.063765</td>\n",
       "      <td>0.401207</td>\n",
       "    </tr>\n",
       "    <tr>\n",
       "      <th>min</th>\n",
       "      <td>359.000000</td>\n",
       "      <td>18.000000</td>\n",
       "      <td>NaN</td>\n",
       "      <td>0.000000</td>\n",
       "      <td>1.000000</td>\n",
       "      <td>0.000000</td>\n",
       "      <td>0.000000</td>\n",
       "      <td>106.670000</td>\n",
       "      <td>0.000000</td>\n",
       "    </tr>\n",
       "    <tr>\n",
       "      <th>25%</th>\n",
       "      <td>580.000000</td>\n",
       "      <td>32.000000</td>\n",
       "      <td>NaN</td>\n",
       "      <td>0.000000</td>\n",
       "      <td>1.000000</td>\n",
       "      <td>0.000000</td>\n",
       "      <td>0.000000</td>\n",
       "      <td>49872.330000</td>\n",
       "      <td>0.000000</td>\n",
       "    </tr>\n",
       "    <tr>\n",
       "      <th>50%</th>\n",
       "      <td>647.000000</td>\n",
       "      <td>37.000000</td>\n",
       "      <td>NaN</td>\n",
       "      <td>96674.550000</td>\n",
       "      <td>1.000000</td>\n",
       "      <td>1.000000</td>\n",
       "      <td>1.000000</td>\n",
       "      <td>99444.020000</td>\n",
       "      <td>0.000000</td>\n",
       "    </tr>\n",
       "    <tr>\n",
       "      <th>75%</th>\n",
       "      <td>718.000000</td>\n",
       "      <td>43.000000</td>\n",
       "      <td>NaN</td>\n",
       "      <td>128554.980000</td>\n",
       "      <td>2.000000</td>\n",
       "      <td>1.000000</td>\n",
       "      <td>1.000000</td>\n",
       "      <td>145759.700000</td>\n",
       "      <td>0.000000</td>\n",
       "    </tr>\n",
       "    <tr>\n",
       "      <th>max</th>\n",
       "      <td>850.000000</td>\n",
       "      <td>92.000000</td>\n",
       "      <td>NaN</td>\n",
       "      <td>206663.750000</td>\n",
       "      <td>4.000000</td>\n",
       "      <td>1.000000</td>\n",
       "      <td>1.000000</td>\n",
       "      <td>199390.450000</td>\n",
       "      <td>1.000000</td>\n",
       "    </tr>\n",
       "  </tbody>\n",
       "</table>\n",
       "</div>"
      ],
      "text/plain": [
       "       creditscore         age  tenure        balance  numofproducts  \\\n",
       "count   909.000000  909.000000     0.0     909.000000     909.000000   \n",
       "mean    648.451045   38.647965     NaN   76117.341474       1.530253   \n",
       "std      99.079381    9.785438     NaN   63105.690715       0.588452   \n",
       "min     359.000000   18.000000     NaN       0.000000       1.000000   \n",
       "25%     580.000000   32.000000     NaN       0.000000       1.000000   \n",
       "50%     647.000000   37.000000     NaN   96674.550000       1.000000   \n",
       "75%     718.000000   43.000000     NaN  128554.980000       2.000000   \n",
       "max     850.000000   92.000000     NaN  206663.750000       4.000000   \n",
       "\n",
       "        hascrcard  isactivemember  estimatedsalary      exited  \n",
       "count  909.000000      909.000000       909.000000  909.000000  \n",
       "mean     0.710671        0.510451     99180.389373    0.201320  \n",
       "std      0.453701        0.500166     56378.063765    0.401207  \n",
       "min      0.000000        0.000000       106.670000    0.000000  \n",
       "25%      0.000000        0.000000     49872.330000    0.000000  \n",
       "50%      1.000000        1.000000     99444.020000    0.000000  \n",
       "75%      1.000000        1.000000    145759.700000    0.000000  \n",
       "max      1.000000        1.000000    199390.450000    1.000000  "
      ]
     },
     "execution_count": 7,
     "metadata": {},
     "output_type": "execute_result"
    }
   ],
   "source": [
    "df[df.isna().any(axis=1)].describe()"
   ]
  },
  {
   "cell_type": "code",
   "execution_count": 8,
   "metadata": {},
   "outputs": [
    {
     "data": {
      "text/html": [
       "<div>\n",
       "<style scoped>\n",
       "    .dataframe tbody tr th:only-of-type {\n",
       "        vertical-align: middle;\n",
       "    }\n",
       "\n",
       "    .dataframe tbody tr th {\n",
       "        vertical-align: top;\n",
       "    }\n",
       "\n",
       "    .dataframe thead th {\n",
       "        text-align: right;\n",
       "    }\n",
       "</style>\n",
       "<table border=\"1\" class=\"dataframe\">\n",
       "  <thead>\n",
       "    <tr style=\"text-align: right;\">\n",
       "      <th></th>\n",
       "      <th>creditscore</th>\n",
       "      <th>age</th>\n",
       "      <th>tenure</th>\n",
       "      <th>balance</th>\n",
       "      <th>numofproducts</th>\n",
       "      <th>hascrcard</th>\n",
       "      <th>isactivemember</th>\n",
       "      <th>estimatedsalary</th>\n",
       "      <th>exited</th>\n",
       "    </tr>\n",
       "  </thead>\n",
       "  <tbody>\n",
       "    <tr>\n",
       "      <th>count</th>\n",
       "      <td>10000.000000</td>\n",
       "      <td>10000.000000</td>\n",
       "      <td>9091.000000</td>\n",
       "      <td>10000.000000</td>\n",
       "      <td>10000.000000</td>\n",
       "      <td>10000.00000</td>\n",
       "      <td>10000.000000</td>\n",
       "      <td>10000.000000</td>\n",
       "      <td>10000.000000</td>\n",
       "    </tr>\n",
       "    <tr>\n",
       "      <th>mean</th>\n",
       "      <td>650.528800</td>\n",
       "      <td>38.921800</td>\n",
       "      <td>4.997690</td>\n",
       "      <td>76485.889288</td>\n",
       "      <td>1.530200</td>\n",
       "      <td>0.70550</td>\n",
       "      <td>0.515100</td>\n",
       "      <td>100090.239881</td>\n",
       "      <td>0.203700</td>\n",
       "    </tr>\n",
       "    <tr>\n",
       "      <th>std</th>\n",
       "      <td>96.653299</td>\n",
       "      <td>10.487806</td>\n",
       "      <td>2.894723</td>\n",
       "      <td>62397.405202</td>\n",
       "      <td>0.581654</td>\n",
       "      <td>0.45584</td>\n",
       "      <td>0.499797</td>\n",
       "      <td>57510.492818</td>\n",
       "      <td>0.402769</td>\n",
       "    </tr>\n",
       "    <tr>\n",
       "      <th>min</th>\n",
       "      <td>350.000000</td>\n",
       "      <td>18.000000</td>\n",
       "      <td>0.000000</td>\n",
       "      <td>0.000000</td>\n",
       "      <td>1.000000</td>\n",
       "      <td>0.00000</td>\n",
       "      <td>0.000000</td>\n",
       "      <td>11.580000</td>\n",
       "      <td>0.000000</td>\n",
       "    </tr>\n",
       "    <tr>\n",
       "      <th>25%</th>\n",
       "      <td>584.000000</td>\n",
       "      <td>32.000000</td>\n",
       "      <td>2.000000</td>\n",
       "      <td>0.000000</td>\n",
       "      <td>1.000000</td>\n",
       "      <td>0.00000</td>\n",
       "      <td>0.000000</td>\n",
       "      <td>51002.110000</td>\n",
       "      <td>0.000000</td>\n",
       "    </tr>\n",
       "    <tr>\n",
       "      <th>50%</th>\n",
       "      <td>652.000000</td>\n",
       "      <td>37.000000</td>\n",
       "      <td>5.000000</td>\n",
       "      <td>97198.540000</td>\n",
       "      <td>1.000000</td>\n",
       "      <td>1.00000</td>\n",
       "      <td>1.000000</td>\n",
       "      <td>100193.915000</td>\n",
       "      <td>0.000000</td>\n",
       "    </tr>\n",
       "    <tr>\n",
       "      <th>75%</th>\n",
       "      <td>718.000000</td>\n",
       "      <td>44.000000</td>\n",
       "      <td>7.000000</td>\n",
       "      <td>127644.240000</td>\n",
       "      <td>2.000000</td>\n",
       "      <td>1.00000</td>\n",
       "      <td>1.000000</td>\n",
       "      <td>149388.247500</td>\n",
       "      <td>0.000000</td>\n",
       "    </tr>\n",
       "    <tr>\n",
       "      <th>max</th>\n",
       "      <td>850.000000</td>\n",
       "      <td>92.000000</td>\n",
       "      <td>10.000000</td>\n",
       "      <td>250898.090000</td>\n",
       "      <td>4.000000</td>\n",
       "      <td>1.00000</td>\n",
       "      <td>1.000000</td>\n",
       "      <td>199992.480000</td>\n",
       "      <td>1.000000</td>\n",
       "    </tr>\n",
       "  </tbody>\n",
       "</table>\n",
       "</div>"
      ],
      "text/plain": [
       "        creditscore           age       tenure        balance  numofproducts  \\\n",
       "count  10000.000000  10000.000000  9091.000000   10000.000000   10000.000000   \n",
       "mean     650.528800     38.921800     4.997690   76485.889288       1.530200   \n",
       "std       96.653299     10.487806     2.894723   62397.405202       0.581654   \n",
       "min      350.000000     18.000000     0.000000       0.000000       1.000000   \n",
       "25%      584.000000     32.000000     2.000000       0.000000       1.000000   \n",
       "50%      652.000000     37.000000     5.000000   97198.540000       1.000000   \n",
       "75%      718.000000     44.000000     7.000000  127644.240000       2.000000   \n",
       "max      850.000000     92.000000    10.000000  250898.090000       4.000000   \n",
       "\n",
       "         hascrcard  isactivemember  estimatedsalary        exited  \n",
       "count  10000.00000    10000.000000     10000.000000  10000.000000  \n",
       "mean       0.70550        0.515100    100090.239881      0.203700  \n",
       "std        0.45584        0.499797     57510.492818      0.402769  \n",
       "min        0.00000        0.000000        11.580000      0.000000  \n",
       "25%        0.00000        0.000000     51002.110000      0.000000  \n",
       "50%        1.00000        1.000000    100193.915000      0.000000  \n",
       "75%        1.00000        1.000000    149388.247500      0.000000  \n",
       "max        1.00000        1.000000    199992.480000      1.000000  "
      ]
     },
     "execution_count": 8,
     "metadata": {},
     "output_type": "execute_result"
    }
   ],
   "source": [
    "df.describe()"
   ]
  },
  {
   "cell_type": "markdown",
   "metadata": {},
   "source": [
    "Данные с NaN в колонке `tenure` выглядят вполне нормально, поэтому было решено заменить их на рандомные значения чтобы не изменить распреление самих данных, и не потерять лишние данные. Посмотрим на распределение величин до и после"
   ]
  },
  {
   "cell_type": "code",
   "execution_count": 9,
   "metadata": {},
   "outputs": [
    {
     "data": {
      "text/plain": [
       "<AxesSubplot:>"
      ]
     },
     "execution_count": 9,
     "metadata": {},
     "output_type": "execute_result"
    },
    {
     "data": {
      "image/png": "[encoded data removed]",
      "text/plain": [
       "<Figure size 432x288 with 1 Axes>"
      ]
     },
     "metadata": {
      "needs_background": "light"
     },
     "output_type": "display_data"
    }
   ],
   "source": [
    "df['tenure'].hist()"
   ]
  },
  {
   "cell_type": "code",
   "execution_count": 10,
   "metadata": {},
   "outputs": [],
   "source": [
    "import random"
   ]
  },
  {
   "cell_type": "code",
   "execution_count": 11,
   "metadata": {},
   "outputs": [],
   "source": [
    "index_nan = df[df['tenure'].isna()]['tenure'].index"
   ]
  },
  {
   "cell_type": "code",
   "execution_count": 12,
   "metadata": {},
   "outputs": [],
   "source": [
    "rand_list = []\n",
    "for i in range(len(index_nan)):\n",
    "    rand_list.append(random.randint(df['tenure'].min(), df['tenure'].max()))"
   ]
  },
  {
   "cell_type": "code",
   "execution_count": 13,
   "metadata": {},
   "outputs": [],
   "source": [
    "rand_series = pd.Series(rand_list, index=index_nan)"
   ]
  },
  {
   "cell_type": "code",
   "execution_count": 14,
   "metadata": {},
   "outputs": [],
   "source": [
    "df.loc[index_nan,'tenure'] = rand_series"
   ]
  },
  {
   "cell_type": "code",
   "execution_count": 15,
   "metadata": {},
   "outputs": [
    {
     "data": {
      "text/plain": [
       "<AxesSubplot:>"
      ]
     },
     "execution_count": 15,
     "metadata": {},
     "output_type": "execute_result"
    },
    {
     "data": {
      "image/png": "[encoded data removed]",
      "text/plain": [
       "<Figure size 432x288 with 1 Axes>"
      ]
     },
     "metadata": {
      "needs_background": "light"
     },
     "output_type": "display_data"
    }
   ],
   "source": [
    "df['tenure'].hist()"
   ]
  },
  {
   "cell_type": "markdown",
   "metadata": {},
   "source": [
    "Распределение на глаз почти не изменилось!"
   ]
  },
  {
   "cell_type": "code",
   "execution_count": 16,
   "metadata": {},
   "outputs": [
    {
     "name": "stdout",
     "output_type": "stream",
     "text": [
      "<class 'pandas.core.frame.DataFrame'>\n",
      "RangeIndex: 10000 entries, 0 to 9999\n",
      "Data columns (total 11 columns):\n",
      " #   Column           Non-Null Count  Dtype  \n",
      "---  ------           --------------  -----  \n",
      " 0   creditscore      10000 non-null  int64  \n",
      " 1   geography        10000 non-null  object \n",
      " 2   gender           10000 non-null  object \n",
      " 3   age              10000 non-null  int64  \n",
      " 4   tenure           10000 non-null  float64\n",
      " 5   balance          10000 non-null  float64\n",
      " 6   numofproducts    10000 non-null  int64  \n",
      " 7   hascrcard        10000 non-null  int64  \n",
      " 8   isactivemember   10000 non-null  int64  \n",
      " 9   estimatedsalary  10000 non-null  float64\n",
      " 10  exited           10000 non-null  int64  \n",
      "dtypes: float64(3), int64(6), object(2)\n",
      "memory usage: 859.5+ KB\n"
     ]
    }
   ],
   "source": [
    "df.info()"
   ]
  },
  {
   "cell_type": "markdown",
   "metadata": {},
   "source": [
    "**Добавил сверху код с заменой NaN на рандомные значения, само распределение не сильно(либо вовсе не) изменилось!** "
   ]
  },
  {
   "cell_type": "markdown",
   "metadata": {},
   "source": [
    "Заменим тип данных в колонке `tenure` с 'object' на 'int64'"
   ]
  },
  {
   "cell_type": "code",
   "execution_count": 17,
   "metadata": {},
   "outputs": [],
   "source": [
    "df['tenure'] = df['tenure'].astype('int64')"
   ]
  },
  {
   "cell_type": "code",
   "execution_count": 18,
   "metadata": {},
   "outputs": [
    {
     "name": "stdout",
     "output_type": "stream",
     "text": [
      "<class 'pandas.core.frame.DataFrame'>\n",
      "RangeIndex: 10000 entries, 0 to 9999\n",
      "Data columns (total 11 columns):\n",
      " #   Column           Non-Null Count  Dtype  \n",
      "---  ------           --------------  -----  \n",
      " 0   creditscore      10000 non-null  int64  \n",
      " 1   geography        10000 non-null  object \n",
      " 2   gender           10000 non-null  object \n",
      " 3   age              10000 non-null  int64  \n",
      " 4   tenure           10000 non-null  int64  \n",
      " 5   balance          10000 non-null  float64\n",
      " 6   numofproducts    10000 non-null  int64  \n",
      " 7   hascrcard        10000 non-null  int64  \n",
      " 8   isactivemember   10000 non-null  int64  \n",
      " 9   estimatedsalary  10000 non-null  float64\n",
      " 10  exited           10000 non-null  int64  \n",
      "dtypes: float64(2), int64(7), object(2)\n",
      "memory usage: 859.5+ KB\n"
     ]
    }
   ],
   "source": [
    "df.info()"
   ]
  },
  {
   "cell_type": "markdown",
   "metadata": {},
   "source": [
    "Применили технику OHE для прямого декодирования данных"
   ]
  },
  {
   "cell_type": "code",
   "execution_count": 19,
   "metadata": {},
   "outputs": [],
   "source": [
    "df = pd.get_dummies(df, drop_first=True)"
   ]
  },
  {
   "cell_type": "code",
   "execution_count": 20,
   "metadata": {},
   "outputs": [
    {
     "data": {
      "text/html": [
       "<div>\n",
       "<style scoped>\n",
       "    .dataframe tbody tr th:only-of-type {\n",
       "        vertical-align: middle;\n",
       "    }\n",
       "\n",
       "    .dataframe tbody tr th {\n",
       "        vertical-align: top;\n",
       "    }\n",
       "\n",
       "    .dataframe thead th {\n",
       "        text-align: right;\n",
       "    }\n",
       "</style>\n",
       "<table border=\"1\" class=\"dataframe\">\n",
       "  <thead>\n",
       "    <tr style=\"text-align: right;\">\n",
       "      <th></th>\n",
       "      <th>creditscore</th>\n",
       "      <th>age</th>\n",
       "      <th>tenure</th>\n",
       "      <th>balance</th>\n",
       "      <th>numofproducts</th>\n",
       "      <th>hascrcard</th>\n",
       "      <th>isactivemember</th>\n",
       "      <th>estimatedsalary</th>\n",
       "      <th>exited</th>\n",
       "      <th>geography_Germany</th>\n",
       "      <th>geography_Spain</th>\n",
       "      <th>gender_Male</th>\n",
       "    </tr>\n",
       "  </thead>\n",
       "  <tbody>\n",
       "    <tr>\n",
       "      <th>0</th>\n",
       "      <td>619</td>\n",
       "      <td>42</td>\n",
       "      <td>2</td>\n",
       "      <td>0.00</td>\n",
       "      <td>1</td>\n",
       "      <td>1</td>\n",
       "      <td>1</td>\n",
       "      <td>101348.88</td>\n",
       "      <td>1</td>\n",
       "      <td>0</td>\n",
       "      <td>0</td>\n",
       "      <td>0</td>\n",
       "    </tr>\n",
       "    <tr>\n",
       "      <th>1</th>\n",
       "      <td>608</td>\n",
       "      <td>41</td>\n",
       "      <td>1</td>\n",
       "      <td>83807.86</td>\n",
       "      <td>1</td>\n",
       "      <td>0</td>\n",
       "      <td>1</td>\n",
       "      <td>112542.58</td>\n",
       "      <td>0</td>\n",
       "      <td>0</td>\n",
       "      <td>1</td>\n",
       "      <td>0</td>\n",
       "    </tr>\n",
       "    <tr>\n",
       "      <th>2</th>\n",
       "      <td>502</td>\n",
       "      <td>42</td>\n",
       "      <td>8</td>\n",
       "      <td>159660.80</td>\n",
       "      <td>3</td>\n",
       "      <td>1</td>\n",
       "      <td>0</td>\n",
       "      <td>113931.57</td>\n",
       "      <td>1</td>\n",
       "      <td>0</td>\n",
       "      <td>0</td>\n",
       "      <td>0</td>\n",
       "    </tr>\n",
       "    <tr>\n",
       "      <th>3</th>\n",
       "      <td>699</td>\n",
       "      <td>39</td>\n",
       "      <td>1</td>\n",
       "      <td>0.00</td>\n",
       "      <td>2</td>\n",
       "      <td>0</td>\n",
       "      <td>0</td>\n",
       "      <td>93826.63</td>\n",
       "      <td>0</td>\n",
       "      <td>0</td>\n",
       "      <td>0</td>\n",
       "      <td>0</td>\n",
       "    </tr>\n",
       "    <tr>\n",
       "      <th>4</th>\n",
       "      <td>850</td>\n",
       "      <td>43</td>\n",
       "      <td>2</td>\n",
       "      <td>125510.82</td>\n",
       "      <td>1</td>\n",
       "      <td>1</td>\n",
       "      <td>1</td>\n",
       "      <td>79084.10</td>\n",
       "      <td>0</td>\n",
       "      <td>0</td>\n",
       "      <td>1</td>\n",
       "      <td>0</td>\n",
       "    </tr>\n",
       "  </tbody>\n",
       "</table>\n",
       "</div>"
      ],
      "text/plain": [
       "   creditscore  age  tenure    balance  numofproducts  hascrcard  \\\n",
       "0          619   42       2       0.00              1          1   \n",
       "1          608   41       1   83807.86              1          0   \n",
       "2          502   42       8  159660.80              3          1   \n",
       "3          699   39       1       0.00              2          0   \n",
       "4          850   43       2  125510.82              1          1   \n",
       "\n",
       "   isactivemember  estimatedsalary  exited  geography_Germany  \\\n",
       "0               1        101348.88       1                  0   \n",
       "1               1        112542.58       0                  0   \n",
       "2               0        113931.57       1                  0   \n",
       "3               0         93826.63       0                  0   \n",
       "4               1         79084.10       0                  0   \n",
       "\n",
       "   geography_Spain  gender_Male  \n",
       "0                0            0  \n",
       "1                1            0  \n",
       "2                0            0  \n",
       "3                0            0  \n",
       "4                1            0  "
      ]
     },
     "execution_count": 20,
     "metadata": {},
     "output_type": "execute_result"
    }
   ],
   "source": [
    "df.head()"
   ]
  },
  {
   "cell_type": "code",
   "execution_count": 21,
   "metadata": {},
   "outputs": [
    {
     "name": "stdout",
     "output_type": "stream",
     "text": [
      "<class 'pandas.core.frame.DataFrame'>\n",
      "RangeIndex: 10000 entries, 0 to 9999\n",
      "Data columns (total 12 columns):\n",
      " #   Column             Non-Null Count  Dtype  \n",
      "---  ------             --------------  -----  \n",
      " 0   creditscore        10000 non-null  int64  \n",
      " 1   age                10000 non-null  int64  \n",
      " 2   tenure             10000 non-null  int64  \n",
      " 3   balance            10000 non-null  float64\n",
      " 4   numofproducts      10000 non-null  int64  \n",
      " 5   hascrcard          10000 non-null  int64  \n",
      " 6   isactivemember     10000 non-null  int64  \n",
      " 7   estimatedsalary    10000 non-null  float64\n",
      " 8   exited             10000 non-null  int64  \n",
      " 9   geography_Germany  10000 non-null  uint8  \n",
      " 10  geography_Spain    10000 non-null  uint8  \n",
      " 11  gender_Male        10000 non-null  uint8  \n",
      "dtypes: float64(2), int64(7), uint8(3)\n",
      "memory usage: 732.5 KB\n"
     ]
    }
   ],
   "source": [
    "df.info()"
   ]
  },
  {
   "cell_type": "markdown",
   "metadata": {},
   "source": [
    "Теперь маштабируем данные для количественных признаков "
   ]
  },
  {
   "cell_type": "code",
   "execution_count": 22,
   "metadata": {},
   "outputs": [],
   "source": [
    "numeric = ['creditscore','age','tenure', 'balance', 'numofproducts', 'estimatedsalary']"
   ]
  },
  {
   "cell_type": "code",
   "execution_count": 23,
   "metadata": {},
   "outputs": [
    {
     "data": {
      "text/plain": [
       "StandardScaler()"
      ]
     },
     "execution_count": 23,
     "metadata": {},
     "output_type": "execute_result"
    }
   ],
   "source": [
    "scaler = StandardScaler()\n",
    "scaler.fit(df[numeric])"
   ]
  },
  {
   "cell_type": "code",
   "execution_count": 24,
   "metadata": {},
   "outputs": [],
   "source": [
    "df[numeric] = scaler.transform(df[numeric])"
   ]
  },
  {
   "cell_type": "markdown",
   "metadata": {},
   "source": [
    "### **Вывод** \n",
    "\n",
    "Теперь после обработки данных можно их использовать для дальнейшего построения модели. Можно заметить что в данных присутствуют как категориальные признаки так и численные, поэтому применили технику OHE для прямого декодирования категориальных данных. Приступим к построению моделей\n"
   ]
  },
  {
   "cell_type": "markdown",
   "metadata": {},
   "source": [
    "## 2. Исследование задачи"
   ]
  },
  {
   "cell_type": "markdown",
   "metadata": {},
   "source": [
    "#### Исследуем `1-ю модель (Логистическая регрессия)`"
   ]
  },
  {
   "cell_type": "code",
   "execution_count": 25,
   "metadata": {},
   "outputs": [],
   "source": [
    "from sklearn.tree import DecisionTreeClassifier\n",
    "from sklearn.ensemble import RandomForestClassifier\n",
    "from sklearn.linear_model import LogisticRegression\n",
    "from sklearn.metrics import precision_score, recall_score\n",
    "from sklearn.metrics import f1_score\n",
    "from sklearn.metrics import roc_auc_score"
   ]
  },
  {
   "cell_type": "markdown",
   "metadata": {},
   "source": [
    "Используем joblib для сохранения моделей"
   ]
  },
  {
   "cell_type": "code",
   "execution_count": 26,
   "metadata": {},
   "outputs": [],
   "source": [
    "from tempfile import mkdtemp\n",
    "import joblib\n",
    "save_dir = mkdtemp()\n",
    "import os "
   ]
  },
  {
   "cell_type": "code",
   "execution_count": 27,
   "metadata": {},
   "outputs": [],
   "source": [
    "features = df.drop(['exited'], axis=1)"
   ]
  },
  {
   "cell_type": "code",
   "execution_count": 28,
   "metadata": {},
   "outputs": [],
   "source": [
    "target = df['exited']"
   ]
  },
  {
   "cell_type": "code",
   "execution_count": 29,
   "metadata": {},
   "outputs": [],
   "source": [
    "from sklearn.model_selection import train_test_split"
   ]
  },
  {
   "cell_type": "code",
   "execution_count": 30,
   "metadata": {},
   "outputs": [],
   "source": [
    "df_train, df_valid_n_test = train_test_split(df, test_size=0.4, random_state=12345)"
   ]
  },
  {
   "cell_type": "code",
   "execution_count": 31,
   "metadata": {},
   "outputs": [],
   "source": [
    "df_valid, df_test = train_test_split(df_valid_n_test, test_size=0.5, random_state=12345)"
   ]
  },
  {
   "cell_type": "code",
   "execution_count": 32,
   "metadata": {},
   "outputs": [],
   "source": [
    "features_train = df_train.drop(['exited'], axis=1)\n",
    "target_train = df_train['exited']\n",
    "features_valid = df_valid.drop(['exited'], axis=1)\n",
    "target_valid = df_valid['exited']"
   ]
  },
  {
   "cell_type": "code",
   "execution_count": 33,
   "metadata": {},
   "outputs": [
    {
     "name": "stdout",
     "output_type": "stream",
     "text": [
      "0    4804\n",
      "1    1196\n",
      "Name: exited, dtype: int64\n",
      "\n"
     ]
    },
    {
     "data": {
      "text/plain": [
       "0    1582\n",
       "1     418\n",
       "Name: exited, dtype: int64"
      ]
     },
     "execution_count": 33,
     "metadata": {},
     "output_type": "execute_result"
    }
   ],
   "source": [
    "print(df_train['exited'].value_counts())\n",
    "print()\n",
    "df_valid['exited'].value_counts()"
   ]
  },
  {
   "cell_type": "markdown",
   "metadata": {},
   "source": [
    "Можно заметить сразу **несбалансированность данных**, с которой мы будем бороться в след. пункте!"
   ]
  },
  {
   "cell_type": "code",
   "execution_count": 34,
   "metadata": {},
   "outputs": [
    {
     "name": "stdout",
     "output_type": "stream",
     "text": [
      "0.33389544688026984\n",
      "roc_auc_score = 0.7581872017130519\n"
     ]
    }
   ],
   "source": [
    "model = LogisticRegression(random_state=12345, solver='liblinear')\n",
    "model.fit(features_train,target_train) \n",
    "predict_valid = model.predict(features_valid)\n",
    "probabilities_one_valid = model.predict_proba(features_valid)[:,1]\n",
    "\n",
    "print(f1_score(target_valid, predict_valid))\n",
    "print('roc_auc_score =',roc_auc_score(target_valid, probabilities_one_valid))"
   ]
  },
  {
   "cell_type": "markdown",
   "metadata": {},
   "source": [
    "Сохраняем модель"
   ]
  },
  {
   "cell_type": "code",
   "execution_count": 35,
   "metadata": {},
   "outputs": [
    {
     "data": {
      "text/plain": [
       "['/tmp/tmp4yask5cm/model.joblib.log.reg']"
      ]
     },
     "execution_count": 35,
     "metadata": {},
     "output_type": "execute_result"
    }
   ],
   "source": [
    "filename_logistic_reg = os.path.join(save_dir, 'model.joblib.log.reg')\n",
    "joblib.dump(model, filename_logistic_reg)"
   ]
  },
  {
   "cell_type": "markdown",
   "metadata": {},
   "source": [
    "Итак модель создали, поиграем теперь со значением threshold "
   ]
  },
  {
   "cell_type": "code",
   "execution_count": 36,
   "metadata": {},
   "outputs": [
    {
     "name": "stdout",
     "output_type": "stream",
     "text": [
      "Порог = 0.00 | f1 = 0.346\n",
      "Порог = 0.01 | f1 = 0.346\n",
      "Порог = 0.01 | f1 = 0.346\n",
      "Порог = 0.01 | f1 = 0.347\n",
      "Порог = 0.02 | f1 = 0.348\n",
      "Порог = 0.03 | f1 = 0.352\n",
      "Порог = 0.03 | f1 = 0.358\n",
      "Порог = 0.04 | f1 = 0.363\n",
      "Порог = 0.04 | f1 = 0.369\n",
      "Порог = 0.04 | f1 = 0.375\n",
      "Порог = 0.05 | f1 = 0.380\n",
      "Порог = 0.06 | f1 = 0.382\n",
      "Порог = 0.06 | f1 = 0.391\n",
      "Порог = 0.07 | f1 = 0.394\n",
      "Порог = 0.07 | f1 = 0.398\n",
      "Порог = 0.07 | f1 = 0.403\n",
      "Порог = 0.08 | f1 = 0.406\n",
      "Порог = 0.09 | f1 = 0.407\n",
      "Порог = 0.09 | f1 = 0.413\n",
      "Порог = 0.10 | f1 = 0.416\n",
      "Порог = 0.10 | f1 = 0.423\n",
      "Порог = 0.10 | f1 = 0.423\n",
      "Порог = 0.11 | f1 = 0.428\n",
      "Порог = 0.12 | f1 = 0.437\n",
      "Порог = 0.12 | f1 = 0.444\n",
      "Порог = 0.12 | f1 = 0.448\n",
      "Порог = 0.13 | f1 = 0.456\n",
      "Порог = 0.14 | f1 = 0.462\n",
      "Порог = 0.14 | f1 = 0.462\n",
      "Порог = 0.14 | f1 = 0.464\n",
      "Порог = 0.15 | f1 = 0.461\n",
      "Порог = 0.15 | f1 = 0.465\n",
      "Порог = 0.16 | f1 = 0.466\n",
      "Порог = 0.17 | f1 = 0.469\n",
      "Порог = 0.17 | f1 = 0.474\n",
      "Порог = 0.18 | f1 = 0.480\n",
      "Порог = 0.18 | f1 = 0.480\n",
      "Порог = 0.18 | f1 = 0.480\n",
      "Порог = 0.19 | f1 = 0.479\n",
      "Порог = 0.20 | f1 = 0.478\n",
      "Порог = 0.20 | f1 = 0.480\n",
      "Порог = 0.21 | f1 = 0.479\n",
      "Порог = 0.21 | f1 = 0.481\n",
      "Порог = 0.21 | f1 = 0.480\n",
      "Порог = 0.22 | f1 = 0.482\n",
      "Порог = 0.23 | f1 = 0.489\n",
      "Порог = 0.23 | f1 = 0.491\n",
      "Порог = 0.24 | f1 = 0.496\n",
      "Порог = 0.24 | f1 = 0.498\n",
      "Порог = 0.24 | f1 = 0.495\n",
      "Порог = 0.25 | f1 = 0.493\n",
      "Порог = 0.26 | f1 = 0.497\n",
      "Порог = 0.26 | f1 = 0.495\n",
      "Порог = 0.27 | f1 = 0.496\n",
      "Порог = 0.27 | f1 = 0.496\n",
      "Порог = 0.28 | f1 = 0.487\n",
      "Порог = 0.28 | f1 = 0.489\n",
      "Порог = 0.29 | f1 = 0.487\n",
      "Порог = 0.29 | f1 = 0.487\n",
      "Порог = 0.29 | f1 = 0.486\n",
      "Порог = 0.30 | f1 = 0.483\n",
      "Порог = 0.30 | f1 = 0.480\n",
      "Порог = 0.31 | f1 = 0.479\n",
      "Порог = 0.32 | f1 = 0.478\n",
      "Порог = 0.32 | f1 = 0.470\n",
      "Порог = 0.33 | f1 = 0.465\n",
      "Порог = 0.33 | f1 = 0.465\n",
      "Порог = 0.34 | f1 = 0.464\n",
      "Порог = 0.34 | f1 = 0.460\n",
      "Порог = 0.35 | f1 = 0.455\n",
      "Порог = 0.35 | f1 = 0.455\n",
      "Порог = 0.35 | f1 = 0.448\n",
      "Порог = 0.36 | f1 = 0.445\n",
      "Порог = 0.36 | f1 = 0.438\n",
      "Порог = 0.37 | f1 = 0.435\n",
      "Порог = 0.38 | f1 = 0.422\n",
      "Порог = 0.38 | f1 = 0.419\n",
      "Порог = 0.39 | f1 = 0.409\n",
      "Порог = 0.39 | f1 = 0.406\n",
      "Порог = 0.40 | f1 = 0.398\n",
      "Порог = 0.40 | f1 = 0.399\n",
      "Порог = 0.41 | f1 = 0.397\n",
      "Порог = 0.41 | f1 = 0.394\n",
      "Порог = 0.42 | f1 = 0.391\n",
      "Порог = 0.42 | f1 = 0.390\n",
      "Порог = 0.42 | f1 = 0.387\n",
      "Порог = 0.43 | f1 = 0.375\n",
      "Порог = 0.43 | f1 = 0.376\n",
      "Порог = 0.44 | f1 = 0.368\n",
      "Порог = 0.45 | f1 = 0.367\n",
      "Порог = 0.45 | f1 = 0.366\n",
      "Порог = 0.46 | f1 = 0.365\n",
      "Порог = 0.46 | f1 = 0.367\n",
      "Порог = 0.47 | f1 = 0.367\n",
      "Порог = 0.47 | f1 = 0.369\n",
      "Порог = 0.48 | f1 = 0.366\n",
      "Порог = 0.48 | f1 = 0.356\n",
      "Порог = 0.48 | f1 = 0.352\n",
      "Порог = 0.49 | f1 = 0.347\n",
      "Порог = 0.49 | f1 = 0.344\n",
      "Порог = 0.50 | f1 = 0.334\n",
      "Порог = 0.51 | f1 = 0.325\n",
      "Порог = 0.51 | f1 = 0.315\n",
      "Порог = 0.52 | f1 = 0.309\n",
      "Порог = 0.52 | f1 = 0.312\n",
      "Порог = 0.53 | f1 = 0.309\n",
      "Порог = 0.53 | f1 = 0.301\n",
      "Порог = 0.54 | f1 = 0.299\n",
      "Порог = 0.54 | f1 = 0.283\n",
      "Порог = 0.55 | f1 = 0.275\n",
      "Порог = 0.55 | f1 = 0.273\n",
      "Порог = 0.56 | f1 = 0.264\n",
      "Порог = 0.56 | f1 = 0.259\n",
      "Порог = 0.57 | f1 = 0.259\n",
      "Порог = 0.57 | f1 = 0.257\n",
      "Порог = 0.58 | f1 = 0.258\n",
      "Порог = 0.58 | f1 = 0.246\n",
      "Порог = 0.58 | f1 = 0.244\n",
      "Порог = 0.59 | f1 = 0.230\n",
      "Порог = 0.59 | f1 = 0.223\n",
      "Порог = 0.60 | f1 = 0.209\n",
      "Порог = 0.60 | f1 = 0.204\n",
      "Порог = 0.61 | f1 = 0.200\n",
      "Порог = 0.61 | f1 = 0.196\n",
      "Порог = 0.62 | f1 = 0.186\n",
      "Порог = 0.62 | f1 = 0.175\n",
      "Порог = 0.63 | f1 = 0.163\n",
      "Порог = 0.64 | f1 = 0.155\n",
      "Порог = 0.64 | f1 = 0.148\n",
      "Порог = 0.65 | f1 = 0.144\n",
      "Порог = 0.65 | f1 = 0.141\n",
      "Порог = 0.66 | f1 = 0.141\n",
      "Порог = 0.66 | f1 = 0.134\n",
      "Порог = 0.67 | f1 = 0.126\n",
      "Порог = 0.67 | f1 = 0.126\n",
      "Порог = 0.68 | f1 = 0.114\n",
      "Порог = 0.68 | f1 = 0.114\n",
      "Порог = 0.69 | f1 = 0.102\n",
      "Порог = 0.69 | f1 = 0.102\n",
      "Порог = 0.70 | f1 = 0.089\n"
     ]
    }
   ],
   "source": [
    "probabilities_valid = joblib.load(filename_logistic_reg).predict_proba(features_valid)\n",
    "probabilities_one_valid = probabilities_valid[:, 1]\n",
    "\n",
    "best_f1 = 0\n",
    "best_threshold = 0\n",
    "\n",
    "for threshold in np.arange(0, 0.7, 0.005):\n",
    "    predicted_valid = probabilities_one_valid > threshold\n",
    "    f1_score_val = f1_score(target_valid, predicted_valid)\n",
    "    print(\"Порог = {:.2f} | f1 = {:.3f}\".format(\n",
    "        threshold, f1_score_val))\n",
    "    if best_f1 < f1_score_val:\n",
    "        best_threshold = threshold\n",
    "        best_f1 = f1_score_val"
   ]
  },
  {
   "cell_type": "code",
   "execution_count": 37,
   "metadata": {},
   "outputs": [
    {
     "name": "stdout",
     "output_type": "stream",
     "text": [
      "best f1_score: 0.49758919961427195 ,\n",
      "best threshold : 0.24\n"
     ]
    }
   ],
   "source": [
    "print('best f1_score: {} ,\\nbest threshold : {}'.format(best_f1, best_threshold))"
   ]
  },
  {
   "cell_type": "markdown",
   "metadata": {},
   "source": [
    "Видно что при изменение порога увеличивается значение f1 метрики!"
   ]
  },
  {
   "cell_type": "markdown",
   "metadata": {},
   "source": [
    "#### Исследуем `2-ю модель (Дерево решений)`"
   ]
  },
  {
   "cell_type": "markdown",
   "metadata": {},
   "source": [
    "Подбираем оптимальную модель перебирая гиперпараметры, в данном случае max_depth"
   ]
  },
  {
   "cell_type": "code",
   "execution_count": 38,
   "metadata": {},
   "outputs": [
    {
     "name": "stdout",
     "output_type": "stream",
     "text": [
      "max_depth = 1 : 0.0\n",
      "max_depth = 2 : 0.5217391304347825\n",
      "max_depth = 3 : 0.4234875444839857\n",
      "max_depth = 4 : 0.5528700906344411\n",
      "max_depth = 5 : 0.5406249999999999\n",
      "max_depth = 6 : 0.5696969696969697\n",
      "max_depth = 7 : 0.5320813771517998\n",
      "max_depth = 8 : 0.5435114503816794\n",
      "max_depth = 9 : 0.5637393767705382\n",
      "max_depth = 10 : 0.5379310344827586\n",
      "max_depth = 11 : 0.5153538050734313\n",
      "max_depth = 12 : 0.5000000000000001\n",
      "max_depth = 13 : 0.5032092426187419\n",
      "max_depth = 14 : 0.5012468827930175\n",
      "max_depth = 15 : 0.5\n",
      "max_depth = 16 : 0.5012224938875306\n",
      "max_depth = 17 : 0.5024271844660193\n",
      "max_depth = 18 : 0.49818621523579204\n",
      "max_depth = 19 : 0.48984468339307047\n"
     ]
    }
   ],
   "source": [
    "best_res = 0\n",
    "best_model = None\n",
    "for i in range(1,20):\n",
    "    model = DecisionTreeClassifier(random_state = 12345,max_depth=i)\n",
    "    model.fit(features_train, target_train)\n",
    "    predictions = model.predict(features_valid)\n",
    "    res = f1_score(target_valid, predictions)\n",
    "    print('max_depth = {} :'.format(i), res)\n",
    "    if res > best_res:\n",
    "        best_res = res\n",
    "        best_model = model\n"
   ]
  },
  {
   "cell_type": "code",
   "execution_count": 39,
   "metadata": {},
   "outputs": [
    {
     "name": "stdout",
     "output_type": "stream",
     "text": [
      "best f1_score for DecisionTree = 0.5696969696969697\n"
     ]
    }
   ],
   "source": [
    "print('best f1_score for DecisionTree =', best_res)"
   ]
  },
  {
   "cell_type": "code",
   "execution_count": 40,
   "metadata": {},
   "outputs": [
    {
     "data": {
      "text/plain": [
       "['/tmp/tmp4yask5cm/model.joblib.decision_tree']"
      ]
     },
     "execution_count": 40,
     "metadata": {},
     "output_type": "execute_result"
    }
   ],
   "source": [
    "filename_decision_tree = os.path.join(save_dir, 'model.joblib.decision_tree')\n",
    "joblib.dump(best_model, filename_decision_tree)"
   ]
  },
  {
   "cell_type": "code",
   "execution_count": 41,
   "metadata": {},
   "outputs": [
    {
     "name": "stdout",
     "output_type": "stream",
     "text": [
      "Порог = 0.00 | f1 = 0.342\n",
      "Порог = 0.01 | f1 = 0.342\n",
      "Порог = 0.01 | f1 = 0.342\n",
      "Порог = 0.01 | f1 = 0.398\n",
      "Порог = 0.02 | f1 = 0.398\n",
      "Порог = 0.03 | f1 = 0.398\n",
      "Порог = 0.03 | f1 = 0.397\n",
      "Порог = 0.04 | f1 = 0.397\n",
      "Порог = 0.04 | f1 = 0.397\n",
      "Порог = 0.04 | f1 = 0.408\n",
      "Порог = 0.05 | f1 = 0.408\n",
      "Порог = 0.06 | f1 = 0.408\n",
      "Порог = 0.06 | f1 = 0.408\n",
      "Порог = 0.07 | f1 = 0.408\n",
      "Порог = 0.07 | f1 = 0.456\n",
      "Порог = 0.07 | f1 = 0.531\n",
      "Порог = 0.08 | f1 = 0.531\n",
      "Порог = 0.09 | f1 = 0.537\n",
      "Порог = 0.09 | f1 = 0.537\n",
      "Порог = 0.10 | f1 = 0.537\n",
      "Порог = 0.10 | f1 = 0.537\n",
      "Порог = 0.10 | f1 = 0.537\n",
      "Порог = 0.11 | f1 = 0.537\n",
      "Порог = 0.12 | f1 = 0.537\n",
      "Порог = 0.12 | f1 = 0.535\n",
      "Порог = 0.12 | f1 = 0.535\n",
      "Порог = 0.13 | f1 = 0.535\n",
      "Порог = 0.14 | f1 = 0.535\n",
      "Порог = 0.14 | f1 = 0.535\n",
      "Порог = 0.14 | f1 = 0.535\n",
      "Порог = 0.15 | f1 = 0.535\n",
      "Порог = 0.15 | f1 = 0.535\n",
      "Порог = 0.16 | f1 = 0.535\n",
      "Порог = 0.17 | f1 = 0.535\n",
      "Порог = 0.17 | f1 = 0.535\n",
      "Порог = 0.18 | f1 = 0.530\n",
      "Порог = 0.18 | f1 = 0.530\n",
      "Порог = 0.18 | f1 = 0.530\n",
      "Порог = 0.19 | f1 = 0.530\n",
      "Порог = 0.20 | f1 = 0.530\n",
      "Порог = 0.20 | f1 = 0.530\n",
      "Порог = 0.21 | f1 = 0.530\n",
      "Порог = 0.21 | f1 = 0.530\n",
      "Порог = 0.21 | f1 = 0.560\n",
      "Порог = 0.22 | f1 = 0.560\n",
      "Порог = 0.23 | f1 = 0.568\n",
      "Порог = 0.23 | f1 = 0.568\n",
      "Порог = 0.24 | f1 = 0.568\n",
      "Порог = 0.24 | f1 = 0.568\n",
      "Порог = 0.24 | f1 = 0.568\n",
      "Порог = 0.25 | f1 = 0.570\n",
      "Порог = 0.26 | f1 = 0.573\n",
      "Порог = 0.26 | f1 = 0.599\n",
      "Порог = 0.27 | f1 = 0.599\n",
      "Порог = 0.27 | f1 = 0.599\n",
      "Порог = 0.28 | f1 = 0.599\n",
      "Порог = 0.28 | f1 = 0.599\n",
      "Порог = 0.29 | f1 = 0.599\n",
      "Порог = 0.29 | f1 = 0.599\n",
      "Порог = 0.29 | f1 = 0.599\n",
      "Порог = 0.30 | f1 = 0.599\n",
      "Порог = 0.30 | f1 = 0.599\n",
      "Порог = 0.31 | f1 = 0.599\n",
      "Порог = 0.32 | f1 = 0.594\n",
      "Порог = 0.32 | f1 = 0.594\n",
      "Порог = 0.33 | f1 = 0.594\n",
      "Порог = 0.33 | f1 = 0.594\n",
      "Порог = 0.34 | f1 = 0.594\n",
      "Порог = 0.34 | f1 = 0.594\n",
      "Порог = 0.35 | f1 = 0.594\n",
      "Порог = 0.35 | f1 = 0.594\n",
      "Порог = 0.35 | f1 = 0.594\n",
      "Порог = 0.36 | f1 = 0.594\n",
      "Порог = 0.36 | f1 = 0.594\n",
      "Порог = 0.37 | f1 = 0.594\n",
      "Порог = 0.38 | f1 = 0.594\n",
      "Порог = 0.38 | f1 = 0.594\n",
      "Порог = 0.39 | f1 = 0.584\n",
      "Порог = 0.39 | f1 = 0.584\n",
      "Порог = 0.40 | f1 = 0.584\n",
      "Порог = 0.40 | f1 = 0.584\n",
      "Порог = 0.41 | f1 = 0.573\n",
      "Порог = 0.41 | f1 = 0.573\n",
      "Порог = 0.42 | f1 = 0.573\n",
      "Порог = 0.42 | f1 = 0.573\n",
      "Порог = 0.42 | f1 = 0.573\n",
      "Порог = 0.43 | f1 = 0.573\n",
      "Порог = 0.43 | f1 = 0.573\n",
      "Порог = 0.44 | f1 = 0.573\n",
      "Порог = 0.45 | f1 = 0.573\n",
      "Порог = 0.45 | f1 = 0.573\n",
      "Порог = 0.46 | f1 = 0.573\n",
      "Порог = 0.46 | f1 = 0.573\n",
      "Порог = 0.47 | f1 = 0.573\n",
      "Порог = 0.47 | f1 = 0.573\n",
      "Порог = 0.48 | f1 = 0.573\n",
      "Порог = 0.48 | f1 = 0.573\n",
      "Порог = 0.48 | f1 = 0.573\n",
      "Порог = 0.49 | f1 = 0.573\n",
      "Порог = 0.49 | f1 = 0.573\n",
      "Порог = 0.50 | f1 = 0.570\n",
      "Порог = 0.51 | f1 = 0.570\n",
      "Порог = 0.51 | f1 = 0.570\n",
      "Порог = 0.52 | f1 = 0.570\n",
      "Порог = 0.52 | f1 = 0.570\n",
      "Порог = 0.53 | f1 = 0.570\n",
      "Порог = 0.53 | f1 = 0.570\n",
      "Порог = 0.54 | f1 = 0.570\n",
      "Порог = 0.54 | f1 = 0.570\n",
      "Порог = 0.55 | f1 = 0.570\n",
      "Порог = 0.55 | f1 = 0.536\n",
      "Порог = 0.56 | f1 = 0.536\n",
      "Порог = 0.56 | f1 = 0.536\n",
      "Порог = 0.57 | f1 = 0.536\n",
      "Порог = 0.57 | f1 = 0.536\n",
      "Порог = 0.58 | f1 = 0.536\n",
      "Порог = 0.58 | f1 = 0.536\n",
      "Порог = 0.58 | f1 = 0.536\n",
      "Порог = 0.59 | f1 = 0.536\n",
      "Порог = 0.59 | f1 = 0.536\n",
      "Порог = 0.60 | f1 = 0.536\n",
      "Порог = 0.60 | f1 = 0.536\n",
      "Порог = 0.61 | f1 = 0.536\n",
      "Порог = 0.61 | f1 = 0.536\n",
      "Порог = 0.62 | f1 = 0.536\n",
      "Порог = 0.62 | f1 = 0.536\n",
      "Порог = 0.63 | f1 = 0.536\n",
      "Порог = 0.64 | f1 = 0.536\n",
      "Порог = 0.64 | f1 = 0.536\n",
      "Порог = 0.65 | f1 = 0.536\n",
      "Порог = 0.65 | f1 = 0.536\n",
      "Порог = 0.66 | f1 = 0.536\n",
      "Порог = 0.66 | f1 = 0.536\n",
      "Порог = 0.67 | f1 = 0.536\n",
      "Порог = 0.67 | f1 = 0.536\n",
      "Порог = 0.68 | f1 = 0.536\n",
      "Порог = 0.68 | f1 = 0.536\n",
      "Порог = 0.69 | f1 = 0.507\n",
      "Порог = 0.69 | f1 = 0.507\n",
      "Порог = 0.70 | f1 = 0.507\n"
     ]
    }
   ],
   "source": [
    "probabilities_valid = joblib.load(filename_decision_tree).predict_proba(features_valid)\n",
    "probabilities_one_valid = probabilities_valid[:, 1]\n",
    "\n",
    "best_f1 = 0\n",
    "best_threshold = 0\n",
    "\n",
    "for threshold in np.arange(0, 0.7, 0.005):\n",
    "    predicted_valid = probabilities_one_valid > threshold\n",
    "    f1_score_val = f1_score(target_valid, predicted_valid)\n",
    "    print(\"Порог = {:.2f} | f1 = {:.3f}\".format(\n",
    "        threshold, f1_score_val))\n",
    "    if best_f1 < f1_score_val:\n",
    "        best_threshold = threshold\n",
    "        best_f1 = f1_score_val"
   ]
  },
  {
   "cell_type": "code",
   "execution_count": 42,
   "metadata": {},
   "outputs": [
    {
     "name": "stdout",
     "output_type": "stream",
     "text": [
      "best f1_score: 0.5987577639751551 ,\n",
      "best threshold : 0.26\n"
     ]
    }
   ],
   "source": [
    "print('best f1_score: {} ,\\nbest threshold : {}'.format(best_f1, best_threshold))"
   ]
  },
  {
   "cell_type": "markdown",
   "metadata": {},
   "source": [
    "Опять как и в предыдущем случае значение f1_score увеличивается при снижение порога!"
   ]
  },
  {
   "cell_type": "markdown",
   "metadata": {},
   "source": [
    "#### Исследуем `3-ю модель (Случайный лес)`"
   ]
  },
  {
   "cell_type": "markdown",
   "metadata": {},
   "source": [
    "Подбираем оптимальную модель перебирая гиперпараметры, в данном случае n_estimators"
   ]
  },
  {
   "cell_type": "code",
   "execution_count": 43,
   "metadata": {},
   "outputs": [
    {
     "name": "stdout",
     "output_type": "stream",
     "text": [
      "number_estimator = 1 : 0.5105882352941177\n",
      "number_estimator = 2 : 0.428341384863124\n",
      "number_estimator = 3 : 0.5384615384615384\n",
      "number_estimator = 4 : 0.49149922720247297\n",
      "number_estimator = 5 : 0.545201668984701\n",
      "number_estimator = 6 : 0.5161290322580645\n",
      "number_estimator = 7 : 0.5673758865248227\n",
      "number_estimator = 8 : 0.5424242424242425\n",
      "number_estimator = 9 : 0.5857142857142856\n",
      "number_estimator = 10 : 0.5688622754491017\n",
      "number_estimator = 11 : 0.584045584045584\n",
      "number_estimator = 12 : 0.5610859728506787\n",
      "number_estimator = 13 : 0.5730659025787965\n",
      "number_estimator = 14 : 0.5671191553544495\n",
      "number_estimator = 15 : 0.5805515239477503\n",
      "number_estimator = 16 : 0.5761194029850746\n",
      "number_estimator = 17 : 0.5747800586510264\n",
      "number_estimator = 18 : 0.572289156626506\n",
      "number_estimator = 19 : 0.581021897810219\n",
      "number_estimator = 20 : 0.5735735735735735\n",
      "number_estimator = 21 : 0.5781021897810219\n",
      "number_estimator = 22 : 0.5688350983358548\n",
      "number_estimator = 23 : 0.5873715124816447\n",
      "number_estimator = 24 : 0.5662650602409639\n",
      "number_estimator = 25 : 0.5726872246696035\n",
      "number_estimator = 26 : 0.5667166416791604\n",
      "number_estimator = 27 : 0.5847953216374269\n",
      "number_estimator = 28 : 0.5701492537313433\n",
      "number_estimator = 29 : 0.5830903790087464\n"
     ]
    }
   ],
   "source": [
    "best_model = None\n",
    "best_result = 0\n",
    "for est in range(1, 30):\n",
    "    model = RandomForestClassifier(random_state=12345, n_estimators=est) \n",
    "    model.fit(features_train, target_train) \n",
    "    predictions = model.predict(features_valid)\n",
    "    res = f1_score(target_valid, predictions) \n",
    "    print('number_estimator = {} :'.format(est), res)\n",
    "    if res > best_result:\n",
    "        best_model = model \n",
    "        best_result = res"
   ]
  },
  {
   "cell_type": "code",
   "execution_count": 44,
   "metadata": {},
   "outputs": [
    {
     "name": "stdout",
     "output_type": "stream",
     "text": [
      "best f1_score for Random Forest =  0.5873715124816447\n"
     ]
    }
   ],
   "source": [
    "print('best f1_score for Random Forest = ', best_result)"
   ]
  },
  {
   "cell_type": "code",
   "execution_count": 45,
   "metadata": {},
   "outputs": [
    {
     "data": {
      "text/plain": [
       "['/tmp/tmp4yask5cm/model.joblib.random_forest']"
      ]
     },
     "execution_count": 45,
     "metadata": {},
     "output_type": "execute_result"
    }
   ],
   "source": [
    "filename_random_forest = os.path.join(save_dir, 'model.joblib.random_forest')\n",
    "joblib.dump(best_model, filename_random_forest)"
   ]
  },
  {
   "cell_type": "code",
   "execution_count": 46,
   "metadata": {},
   "outputs": [
    {
     "data": {
      "text/plain": [
       "RandomForestClassifier(n_estimators=23, random_state=12345)"
      ]
     },
     "execution_count": 46,
     "metadata": {},
     "output_type": "execute_result"
    }
   ],
   "source": [
    "joblib.load(filename_random_forest)"
   ]
  },
  {
   "cell_type": "code",
   "execution_count": 47,
   "metadata": {},
   "outputs": [
    {
     "name": "stdout",
     "output_type": "stream",
     "text": [
      "Порог = 0.00 | f1 = 0.395\n",
      "Порог = 0.01 | f1 = 0.395\n",
      "Порог = 0.01 | f1 = 0.395\n",
      "Порог = 0.01 | f1 = 0.395\n",
      "Порог = 0.02 | f1 = 0.395\n",
      "Порог = 0.03 | f1 = 0.395\n",
      "Порог = 0.03 | f1 = 0.395\n",
      "Порог = 0.04 | f1 = 0.395\n",
      "Порог = 0.04 | f1 = 0.395\n",
      "Порог = 0.04 | f1 = 0.441\n",
      "Порог = 0.05 | f1 = 0.441\n",
      "Порог = 0.06 | f1 = 0.441\n",
      "Порог = 0.06 | f1 = 0.441\n",
      "Порог = 0.07 | f1 = 0.441\n",
      "Порог = 0.07 | f1 = 0.441\n",
      "Порог = 0.07 | f1 = 0.441\n",
      "Порог = 0.08 | f1 = 0.441\n",
      "Порог = 0.09 | f1 = 0.441\n",
      "Порог = 0.09 | f1 = 0.483\n",
      "Порог = 0.10 | f1 = 0.483\n",
      "Порог = 0.10 | f1 = 0.483\n",
      "Порог = 0.10 | f1 = 0.483\n",
      "Порог = 0.11 | f1 = 0.483\n",
      "Порог = 0.12 | f1 = 0.483\n",
      "Порог = 0.12 | f1 = 0.483\n",
      "Порог = 0.12 | f1 = 0.483\n",
      "Порог = 0.13 | f1 = 0.483\n",
      "Порог = 0.14 | f1 = 0.513\n",
      "Порог = 0.14 | f1 = 0.513\n",
      "Порог = 0.14 | f1 = 0.513\n",
      "Порог = 0.15 | f1 = 0.513\n",
      "Порог = 0.15 | f1 = 0.513\n",
      "Порог = 0.16 | f1 = 0.513\n",
      "Порог = 0.17 | f1 = 0.513\n",
      "Порог = 0.17 | f1 = 0.513\n",
      "Порог = 0.18 | f1 = 0.560\n",
      "Порог = 0.18 | f1 = 0.560\n",
      "Порог = 0.18 | f1 = 0.560\n",
      "Порог = 0.19 | f1 = 0.560\n",
      "Порог = 0.20 | f1 = 0.560\n",
      "Порог = 0.20 | f1 = 0.560\n",
      "Порог = 0.21 | f1 = 0.560\n",
      "Порог = 0.21 | f1 = 0.560\n",
      "Порог = 0.21 | f1 = 0.560\n",
      "Порог = 0.22 | f1 = 0.588\n",
      "Порог = 0.23 | f1 = 0.588\n",
      "Порог = 0.23 | f1 = 0.588\n",
      "Порог = 0.24 | f1 = 0.588\n",
      "Порог = 0.24 | f1 = 0.588\n",
      "Порог = 0.24 | f1 = 0.588\n",
      "Порог = 0.25 | f1 = 0.588\n",
      "Порог = 0.26 | f1 = 0.588\n",
      "Порог = 0.26 | f1 = 0.588\n",
      "Порог = 0.27 | f1 = 0.597\n",
      "Порог = 0.27 | f1 = 0.597\n",
      "Порог = 0.28 | f1 = 0.597\n",
      "Порог = 0.28 | f1 = 0.597\n",
      "Порог = 0.29 | f1 = 0.597\n",
      "Порог = 0.29 | f1 = 0.597\n",
      "Порог = 0.29 | f1 = 0.597\n",
      "Порог = 0.30 | f1 = 0.597\n",
      "Порог = 0.30 | f1 = 0.606\n",
      "Порог = 0.31 | f1 = 0.606\n",
      "Порог = 0.32 | f1 = 0.606\n",
      "Порог = 0.32 | f1 = 0.606\n",
      "Порог = 0.33 | f1 = 0.606\n",
      "Порог = 0.33 | f1 = 0.606\n",
      "Порог = 0.34 | f1 = 0.606\n",
      "Порог = 0.34 | f1 = 0.606\n",
      "Порог = 0.35 | f1 = 0.606\n",
      "Порог = 0.35 | f1 = 0.599\n",
      "Порог = 0.35 | f1 = 0.599\n",
      "Порог = 0.36 | f1 = 0.599\n",
      "Порог = 0.36 | f1 = 0.599\n",
      "Порог = 0.37 | f1 = 0.599\n",
      "Порог = 0.38 | f1 = 0.599\n",
      "Порог = 0.38 | f1 = 0.599\n",
      "Порог = 0.39 | f1 = 0.599\n",
      "Порог = 0.39 | f1 = 0.599\n",
      "Порог = 0.40 | f1 = 0.603\n",
      "Порог = 0.40 | f1 = 0.603\n",
      "Порог = 0.41 | f1 = 0.603\n",
      "Порог = 0.41 | f1 = 0.603\n",
      "Порог = 0.42 | f1 = 0.603\n",
      "Порог = 0.42 | f1 = 0.603\n",
      "Порог = 0.42 | f1 = 0.603\n",
      "Порог = 0.43 | f1 = 0.603\n",
      "Порог = 0.43 | f1 = 0.590\n",
      "Порог = 0.44 | f1 = 0.590\n",
      "Порог = 0.45 | f1 = 0.590\n",
      "Порог = 0.45 | f1 = 0.590\n",
      "Порог = 0.46 | f1 = 0.590\n",
      "Порог = 0.46 | f1 = 0.590\n",
      "Порог = 0.47 | f1 = 0.590\n",
      "Порог = 0.47 | f1 = 0.590\n",
      "Порог = 0.48 | f1 = 0.590\n",
      "Порог = 0.48 | f1 = 0.587\n",
      "Порог = 0.48 | f1 = 0.587\n",
      "Порог = 0.49 | f1 = 0.587\n",
      "Порог = 0.49 | f1 = 0.587\n",
      "Порог = 0.50 | f1 = 0.587\n",
      "Порог = 0.51 | f1 = 0.587\n",
      "Порог = 0.51 | f1 = 0.587\n",
      "Порог = 0.52 | f1 = 0.587\n",
      "Порог = 0.52 | f1 = 0.587\n",
      "Порог = 0.53 | f1 = 0.556\n",
      "Порог = 0.53 | f1 = 0.556\n",
      "Порог = 0.54 | f1 = 0.556\n",
      "Порог = 0.54 | f1 = 0.556\n",
      "Порог = 0.55 | f1 = 0.556\n",
      "Порог = 0.55 | f1 = 0.556\n",
      "Порог = 0.56 | f1 = 0.556\n",
      "Порог = 0.56 | f1 = 0.556\n",
      "Порог = 0.57 | f1 = 0.556\n",
      "Порог = 0.57 | f1 = 0.524\n",
      "Порог = 0.58 | f1 = 0.524\n",
      "Порог = 0.58 | f1 = 0.524\n",
      "Порог = 0.58 | f1 = 0.524\n",
      "Порог = 0.59 | f1 = 0.524\n",
      "Порог = 0.59 | f1 = 0.524\n",
      "Порог = 0.60 | f1 = 0.524\n",
      "Порог = 0.60 | f1 = 0.524\n",
      "Порог = 0.61 | f1 = 0.500\n",
      "Порог = 0.61 | f1 = 0.500\n",
      "Порог = 0.62 | f1 = 0.500\n",
      "Порог = 0.62 | f1 = 0.500\n",
      "Порог = 0.63 | f1 = 0.500\n",
      "Порог = 0.64 | f1 = 0.500\n",
      "Порог = 0.64 | f1 = 0.500\n",
      "Порог = 0.65 | f1 = 0.500\n",
      "Порог = 0.65 | f1 = 0.500\n",
      "Порог = 0.66 | f1 = 0.479\n",
      "Порог = 0.66 | f1 = 0.479\n",
      "Порог = 0.67 | f1 = 0.479\n",
      "Порог = 0.67 | f1 = 0.479\n",
      "Порог = 0.68 | f1 = 0.479\n",
      "Порог = 0.68 | f1 = 0.479\n",
      "Порог = 0.69 | f1 = 0.479\n",
      "Порог = 0.69 | f1 = 0.479\n",
      "Порог = 0.70 | f1 = 0.479\n"
     ]
    }
   ],
   "source": [
    "probabilities_valid = joblib.load(filename_random_forest).predict_proba(features_valid)\n",
    "probabilities_one_valid = probabilities_valid[:, 1]\n",
    "\n",
    "best_f1 = 0\n",
    "best_threshold = 0\n",
    "\n",
    "for threshold in np.arange(0, 0.7, 0.005):\n",
    "    predicted_valid = probabilities_one_valid > threshold\n",
    "    f1_score_val = f1_score(target_valid, predicted_valid)\n",
    "    print(\"Порог = {:.2f} | f1 = {:.3f}\".format(\n",
    "        threshold, f1_score_val))\n",
    "    if best_f1 < f1_score_val:\n",
    "        best_threshold = threshold\n",
    "        best_f1 = f1_score_val"
   ]
  },
  {
   "cell_type": "code",
   "execution_count": 48,
   "metadata": {},
   "outputs": [
    {
     "name": "stdout",
     "output_type": "stream",
     "text": [
      "best f1_score: 0.6057142857142858 ,\n",
      "best threshold : 0.305\n"
     ]
    }
   ],
   "source": [
    "print('best f1_score: {} ,\\nbest threshold : {}'.format(best_f1, best_threshold))"
   ]
  },
  {
   "cell_type": "markdown",
   "metadata": {},
   "source": [
    "## 3. Борьба с дисбалансом"
   ]
  },
  {
   "cell_type": "markdown",
   "metadata": {},
   "source": [
    "### Первый метод борьбы с дисбалансом мы выбрали применение параметра `class_weight='balanced'`.\n",
    "\n",
    "#### Сначала применяем к `1-ой модели (логистическая регрессия)`"
   ]
  },
  {
   "cell_type": "code",
   "execution_count": 49,
   "metadata": {},
   "outputs": [
    {
     "name": "stdout",
     "output_type": "stream",
     "text": [
      "f1_score = 0.4888507718696398\n",
      "roc_auc_score = 0.7631442846859707\n"
     ]
    }
   ],
   "source": [
    "model = LogisticRegression(random_state=12345, solver='liblinear', class_weight='balanced')\n",
    "model.fit(features_train,target_train) \n",
    "predict_valid = model.predict(features_valid)\n",
    "probabilities_one_valid = model.predict_proba(features_valid)[:,1]\n",
    "\n",
    "print('f1_score =',f1_score(target_valid, predict_valid))\n",
    "print('roc_auc_score =',roc_auc_score(target_valid, probabilities_one_valid))"
   ]
  },
  {
   "cell_type": "markdown",
   "metadata": {},
   "source": [
    "Метрика достаточно сильно изменилась в сравенение с метрикой (без изменения threshold) у модели без данного параметра, но такого значения всё равно не достаточно в условиях данной задачи."
   ]
  },
  {
   "cell_type": "code",
   "execution_count": 50,
   "metadata": {},
   "outputs": [
    {
     "data": {
      "text/plain": [
       "['/tmp/tmp4yask5cm/model.joblib.log.reg.weight']"
      ]
     },
     "execution_count": 50,
     "metadata": {},
     "output_type": "execute_result"
    }
   ],
   "source": [
    "filename_logistic_reg_weighted = os.path.join(save_dir, 'model.joblib.log.reg.weight')\n",
    "joblib.dump(model, filename_logistic_reg_weighted)"
   ]
  },
  {
   "cell_type": "markdown",
   "metadata": {},
   "source": [
    "Перебираем значения threshold"
   ]
  },
  {
   "cell_type": "code",
   "execution_count": 51,
   "metadata": {},
   "outputs": [
    {
     "name": "stdout",
     "output_type": "stream",
     "text": [
      "Порог = 0.00 | f1 = 0.346\n",
      "Порог = 0.01 | f1 = 0.346\n",
      "Порог = 0.01 | f1 = 0.346\n",
      "Порог = 0.01 | f1 = 0.346\n",
      "Порог = 0.02 | f1 = 0.346\n",
      "Порог = 0.03 | f1 = 0.346\n",
      "Порог = 0.03 | f1 = 0.346\n",
      "Порог = 0.04 | f1 = 0.346\n",
      "Порог = 0.04 | f1 = 0.346\n",
      "Порог = 0.04 | f1 = 0.346\n",
      "Порог = 0.05 | f1 = 0.346\n",
      "Порог = 0.06 | f1 = 0.347\n",
      "Порог = 0.06 | f1 = 0.347\n",
      "Порог = 0.07 | f1 = 0.347\n",
      "Порог = 0.07 | f1 = 0.348\n",
      "Порог = 0.07 | f1 = 0.349\n",
      "Порог = 0.08 | f1 = 0.349\n",
      "Порог = 0.09 | f1 = 0.351\n",
      "Порог = 0.09 | f1 = 0.352\n",
      "Порог = 0.10 | f1 = 0.353\n",
      "Порог = 0.10 | f1 = 0.354\n",
      "Порог = 0.10 | f1 = 0.356\n",
      "Порог = 0.11 | f1 = 0.357\n",
      "Порог = 0.12 | f1 = 0.358\n",
      "Порог = 0.12 | f1 = 0.359\n",
      "Порог = 0.12 | f1 = 0.361\n",
      "Порог = 0.13 | f1 = 0.364\n",
      "Порог = 0.14 | f1 = 0.366\n",
      "Порог = 0.14 | f1 = 0.368\n",
      "Порог = 0.14 | f1 = 0.369\n",
      "Порог = 0.15 | f1 = 0.371\n",
      "Порог = 0.15 | f1 = 0.374\n",
      "Порог = 0.16 | f1 = 0.375\n",
      "Порог = 0.17 | f1 = 0.376\n",
      "Порог = 0.17 | f1 = 0.376\n",
      "Порог = 0.18 | f1 = 0.378\n",
      "Порог = 0.18 | f1 = 0.380\n",
      "Порог = 0.18 | f1 = 0.381\n",
      "Порог = 0.19 | f1 = 0.381\n",
      "Порог = 0.20 | f1 = 0.383\n",
      "Порог = 0.20 | f1 = 0.387\n",
      "Порог = 0.21 | f1 = 0.391\n",
      "Порог = 0.21 | f1 = 0.393\n",
      "Порог = 0.21 | f1 = 0.394\n",
      "Порог = 0.22 | f1 = 0.396\n",
      "Порог = 0.23 | f1 = 0.397\n",
      "Порог = 0.23 | f1 = 0.398\n",
      "Порог = 0.24 | f1 = 0.399\n",
      "Порог = 0.24 | f1 = 0.402\n",
      "Порог = 0.24 | f1 = 0.402\n",
      "Порог = 0.25 | f1 = 0.404\n",
      "Порог = 0.26 | f1 = 0.406\n",
      "Порог = 0.26 | f1 = 0.407\n",
      "Порог = 0.27 | f1 = 0.411\n",
      "Порог = 0.27 | f1 = 0.413\n",
      "Порог = 0.28 | f1 = 0.414\n",
      "Порог = 0.28 | f1 = 0.416\n",
      "Порог = 0.29 | f1 = 0.416\n",
      "Порог = 0.29 | f1 = 0.417\n",
      "Порог = 0.29 | f1 = 0.419\n",
      "Порог = 0.30 | f1 = 0.422\n",
      "Порог = 0.30 | f1 = 0.425\n",
      "Порог = 0.31 | f1 = 0.429\n",
      "Порог = 0.32 | f1 = 0.432\n",
      "Порог = 0.32 | f1 = 0.432\n",
      "Порог = 0.33 | f1 = 0.435\n",
      "Порог = 0.33 | f1 = 0.436\n",
      "Порог = 0.34 | f1 = 0.439\n",
      "Порог = 0.34 | f1 = 0.441\n",
      "Порог = 0.35 | f1 = 0.441\n",
      "Порог = 0.35 | f1 = 0.446\n",
      "Порог = 0.35 | f1 = 0.447\n",
      "Порог = 0.36 | f1 = 0.451\n",
      "Порог = 0.36 | f1 = 0.454\n",
      "Порог = 0.37 | f1 = 0.456\n",
      "Порог = 0.38 | f1 = 0.461\n",
      "Порог = 0.38 | f1 = 0.463\n",
      "Порог = 0.39 | f1 = 0.466\n",
      "Порог = 0.39 | f1 = 0.468\n",
      "Порог = 0.40 | f1 = 0.472\n",
      "Порог = 0.40 | f1 = 0.472\n",
      "Порог = 0.41 | f1 = 0.475\n",
      "Порог = 0.41 | f1 = 0.476\n",
      "Порог = 0.42 | f1 = 0.474\n",
      "Порог = 0.42 | f1 = 0.475\n",
      "Порог = 0.42 | f1 = 0.476\n",
      "Порог = 0.43 | f1 = 0.479\n",
      "Порог = 0.43 | f1 = 0.480\n",
      "Порог = 0.44 | f1 = 0.484\n",
      "Порог = 0.45 | f1 = 0.486\n",
      "Порог = 0.45 | f1 = 0.483\n",
      "Порог = 0.46 | f1 = 0.487\n",
      "Порог = 0.46 | f1 = 0.484\n",
      "Порог = 0.47 | f1 = 0.483\n",
      "Порог = 0.47 | f1 = 0.483\n",
      "Порог = 0.48 | f1 = 0.483\n",
      "Порог = 0.48 | f1 = 0.485\n",
      "Порог = 0.48 | f1 = 0.485\n",
      "Порог = 0.49 | f1 = 0.487\n",
      "Порог = 0.49 | f1 = 0.488\n",
      "Порог = 0.50 | f1 = 0.489\n",
      "Порог = 0.51 | f1 = 0.489\n",
      "Порог = 0.51 | f1 = 0.490\n",
      "Порог = 0.52 | f1 = 0.493\n",
      "Порог = 0.52 | f1 = 0.494\n",
      "Порог = 0.53 | f1 = 0.495\n",
      "Порог = 0.53 | f1 = 0.496\n",
      "Порог = 0.54 | f1 = 0.499\n",
      "Порог = 0.54 | f1 = 0.497\n",
      "Порог = 0.55 | f1 = 0.499\n",
      "Порог = 0.55 | f1 = 0.499\n",
      "Порог = 0.56 | f1 = 0.498\n",
      "Порог = 0.56 | f1 = 0.494\n",
      "Порог = 0.57 | f1 = 0.490\n",
      "Порог = 0.57 | f1 = 0.495\n",
      "Порог = 0.58 | f1 = 0.495\n",
      "Порог = 0.58 | f1 = 0.492\n",
      "Порог = 0.58 | f1 = 0.495\n",
      "Порог = 0.59 | f1 = 0.491\n",
      "Порог = 0.59 | f1 = 0.488\n",
      "Порог = 0.60 | f1 = 0.489\n",
      "Порог = 0.60 | f1 = 0.489\n",
      "Порог = 0.61 | f1 = 0.495\n",
      "Порог = 0.61 | f1 = 0.501\n",
      "Порог = 0.62 | f1 = 0.499\n",
      "Порог = 0.62 | f1 = 0.497\n",
      "Порог = 0.63 | f1 = 0.496\n",
      "Порог = 0.64 | f1 = 0.490\n",
      "Порог = 0.64 | f1 = 0.488\n",
      "Порог = 0.65 | f1 = 0.485\n",
      "Порог = 0.65 | f1 = 0.479\n",
      "Порог = 0.66 | f1 = 0.480\n",
      "Порог = 0.66 | f1 = 0.476\n",
      "Порог = 0.67 | f1 = 0.475\n",
      "Порог = 0.67 | f1 = 0.461\n",
      "Порог = 0.68 | f1 = 0.458\n",
      "Порог = 0.68 | f1 = 0.456\n",
      "Порог = 0.69 | f1 = 0.450\n",
      "Порог = 0.69 | f1 = 0.447\n",
      "Порог = 0.70 | f1 = 0.435\n"
     ]
    }
   ],
   "source": [
    "best_f1 = 0\n",
    "best_threshold = 0\n",
    "best_roc = 0\n",
    "\n",
    "for threshold in np.arange(0, 0.7, 0.005):\n",
    "    predicted_valid = probabilities_one_valid > threshold\n",
    "    f1_score_val = f1_score(target_valid, predicted_valid)\n",
    "    print(\"Порог = {:.2f} | f1 = {:.3f}\".format(\n",
    "        threshold, f1_score_val))\n",
    "    if best_f1 < f1_score_val:\n",
    "        best_threshold = threshold\n",
    "        best_f1 = f1_score_val"
   ]
  },
  {
   "cell_type": "code",
   "execution_count": 52,
   "metadata": {},
   "outputs": [
    {
     "name": "stdout",
     "output_type": "stream",
     "text": [
      "best f1_score: 0.5010845986984815 ,\n",
      "best threshold : 0.615\n"
     ]
    }
   ],
   "source": [
    "print('best f1_score: {} ,\\nbest threshold : {}'.format(best_f1, best_threshold))"
   ]
  },
  {
   "cell_type": "markdown",
   "metadata": {},
   "source": [
    "#### Исследуем `2-ю модель (Дерево решений)`\n",
    "\n",
    "Подбираем оптимальную модель перебирая гиперпараметры, в данном случае max_depth"
   ]
  },
  {
   "cell_type": "code",
   "execution_count": 53,
   "metadata": {},
   "outputs": [
    {
     "name": "stdout",
     "output_type": "stream",
     "text": [
      "max_depth = 1 : 0.4994903160040775\n",
      "max_depth = 2 : 0.541015625\n",
      "max_depth = 3 : 0.541015625\n",
      "max_depth = 4 : 0.5277777777777778\n",
      "max_depth = 5 : 0.5963791267305644\n",
      "max_depth = 6 : 0.5574387947269304\n",
      "max_depth = 7 : 0.5443786982248521\n",
      "max_depth = 8 : 0.5365853658536586\n",
      "max_depth = 9 : 0.5326829268292683\n",
      "max_depth = 10 : 0.5126760563380283\n",
      "max_depth = 11 : 0.5431841831425599\n",
      "max_depth = 12 : 0.5145145145145146\n",
      "max_depth = 13 : 0.5197860962566844\n",
      "max_depth = 14 : 0.4988814317673378\n",
      "max_depth = 15 : 0.4965675057208238\n",
      "max_depth = 16 : 0.485981308411215\n",
      "max_depth = 17 : 0.4844868735083532\n",
      "max_depth = 18 : 0.4914841849148419\n",
      "max_depth = 19 : 0.48375451263537905\n"
     ]
    }
   ],
   "source": [
    "best_res = 0\n",
    "best_model = None\n",
    "for i in range(1,20):\n",
    "    model = DecisionTreeClassifier(random_state = 12345,max_depth=i, class_weight='balanced')\n",
    "    model.fit(features_train, target_train)\n",
    "    predictions = model.predict(features_valid)\n",
    "    res = f1_score(target_valid, predictions)\n",
    "    print('max_depth = {} :'.format(i), res)\n",
    "    if res > best_res:\n",
    "        best_res = res\n",
    "        best_model = model\n",
    "\n",
    "        "
   ]
  },
  {
   "cell_type": "code",
   "execution_count": 54,
   "metadata": {},
   "outputs": [
    {
     "name": "stdout",
     "output_type": "stream",
     "text": [
      "f1_score = 0.5963791267305644\n",
      "roc_auc_score = 0.8310244134068074\n"
     ]
    }
   ],
   "source": [
    "predict_valid = best_model.predict(features_valid)\n",
    "probabilities_one_valid = best_model.predict_proba(features_valid)[:,1]\n",
    "print('f1_score =',f1_score(target_valid, predict_valid))\n",
    "print('roc_auc_score =',roc_auc_score(target_valid, probabilities_one_valid))"
   ]
  },
  {
   "cell_type": "markdown",
   "metadata": {},
   "source": [
    "В целом значения метрики уже удовлетворяет условиям задачи но посмотрим еще на другие методы, может найдем что-то получше)"
   ]
  },
  {
   "cell_type": "code",
   "execution_count": 55,
   "metadata": {},
   "outputs": [
    {
     "data": {
      "text/plain": [
       "['/tmp/tmp4yask5cm/model.joblib.decision.tree.weight']"
      ]
     },
     "execution_count": 55,
     "metadata": {},
     "output_type": "execute_result"
    }
   ],
   "source": [
    "filename_decision_tree_weighted = os.path.join(save_dir, 'model.joblib.decision.tree.weight')\n",
    "joblib.dump(best_model, filename_decision_tree_weighted)"
   ]
  },
  {
   "cell_type": "code",
   "execution_count": 56,
   "metadata": {},
   "outputs": [
    {
     "name": "stdout",
     "output_type": "stream",
     "text": [
      "Порог = 0.00 | f1 = 0.345\n",
      "Порог = 0.01 | f1 = 0.345\n",
      "Порог = 0.01 | f1 = 0.345\n",
      "Порог = 0.01 | f1 = 0.345\n",
      "Порог = 0.02 | f1 = 0.345\n",
      "Порог = 0.03 | f1 = 0.345\n",
      "Порог = 0.03 | f1 = 0.383\n",
      "Порог = 0.04 | f1 = 0.383\n",
      "Порог = 0.04 | f1 = 0.383\n",
      "Порог = 0.04 | f1 = 0.383\n",
      "Порог = 0.05 | f1 = 0.383\n",
      "Порог = 0.06 | f1 = 0.383\n",
      "Порог = 0.06 | f1 = 0.383\n",
      "Порог = 0.07 | f1 = 0.383\n",
      "Порог = 0.07 | f1 = 0.383\n",
      "Порог = 0.07 | f1 = 0.383\n",
      "Порог = 0.08 | f1 = 0.383\n",
      "Порог = 0.09 | f1 = 0.383\n",
      "Порог = 0.09 | f1 = 0.383\n",
      "Порог = 0.10 | f1 = 0.383\n",
      "Порог = 0.10 | f1 = 0.383\n",
      "Порог = 0.10 | f1 = 0.383\n",
      "Порог = 0.11 | f1 = 0.383\n",
      "Порог = 0.12 | f1 = 0.383\n",
      "Порог = 0.12 | f1 = 0.383\n",
      "Порог = 0.12 | f1 = 0.401\n",
      "Порог = 0.13 | f1 = 0.401\n",
      "Порог = 0.14 | f1 = 0.401\n",
      "Порог = 0.14 | f1 = 0.401\n",
      "Порог = 0.14 | f1 = 0.401\n",
      "Порог = 0.15 | f1 = 0.401\n",
      "Порог = 0.15 | f1 = 0.401\n",
      "Порог = 0.16 | f1 = 0.412\n",
      "Порог = 0.17 | f1 = 0.413\n",
      "Порог = 0.17 | f1 = 0.413\n",
      "Порог = 0.18 | f1 = 0.413\n",
      "Порог = 0.18 | f1 = 0.413\n",
      "Порог = 0.18 | f1 = 0.413\n",
      "Порог = 0.19 | f1 = 0.413\n",
      "Порог = 0.20 | f1 = 0.448\n",
      "Порог = 0.20 | f1 = 0.448\n",
      "Порог = 0.21 | f1 = 0.448\n",
      "Порог = 0.21 | f1 = 0.448\n",
      "Порог = 0.21 | f1 = 0.448\n",
      "Порог = 0.22 | f1 = 0.448\n",
      "Порог = 0.23 | f1 = 0.448\n",
      "Порог = 0.23 | f1 = 0.448\n",
      "Порог = 0.24 | f1 = 0.448\n",
      "Порог = 0.24 | f1 = 0.448\n",
      "Порог = 0.24 | f1 = 0.485\n",
      "Порог = 0.25 | f1 = 0.485\n",
      "Порог = 0.26 | f1 = 0.485\n",
      "Порог = 0.26 | f1 = 0.485\n",
      "Порог = 0.27 | f1 = 0.485\n",
      "Порог = 0.27 | f1 = 0.485\n",
      "Порог = 0.28 | f1 = 0.485\n",
      "Порог = 0.28 | f1 = 0.485\n",
      "Порог = 0.29 | f1 = 0.485\n",
      "Порог = 0.29 | f1 = 0.485\n",
      "Порог = 0.29 | f1 = 0.485\n",
      "Порог = 0.30 | f1 = 0.485\n",
      "Порог = 0.30 | f1 = 0.485\n",
      "Порог = 0.31 | f1 = 0.485\n",
      "Порог = 0.32 | f1 = 0.485\n",
      "Порог = 0.32 | f1 = 0.485\n",
      "Порог = 0.33 | f1 = 0.485\n",
      "Порог = 0.33 | f1 = 0.485\n",
      "Порог = 0.34 | f1 = 0.485\n",
      "Порог = 0.34 | f1 = 0.485\n",
      "Порог = 0.35 | f1 = 0.485\n",
      "Порог = 0.35 | f1 = 0.485\n",
      "Порог = 0.35 | f1 = 0.485\n",
      "Порог = 0.36 | f1 = 0.507\n",
      "Порог = 0.36 | f1 = 0.507\n",
      "Порог = 0.37 | f1 = 0.507\n",
      "Порог = 0.38 | f1 = 0.507\n",
      "Порог = 0.38 | f1 = 0.507\n",
      "Порог = 0.39 | f1 = 0.507\n",
      "Порог = 0.39 | f1 = 0.507\n",
      "Порог = 0.40 | f1 = 0.507\n",
      "Порог = 0.40 | f1 = 0.507\n",
      "Порог = 0.41 | f1 = 0.507\n",
      "Порог = 0.41 | f1 = 0.507\n",
      "Порог = 0.42 | f1 = 0.507\n",
      "Порог = 0.42 | f1 = 0.507\n",
      "Порог = 0.42 | f1 = 0.515\n",
      "Порог = 0.43 | f1 = 0.515\n",
      "Порог = 0.43 | f1 = 0.515\n",
      "Порог = 0.44 | f1 = 0.535\n",
      "Порог = 0.45 | f1 = 0.535\n",
      "Порог = 0.45 | f1 = 0.533\n",
      "Порог = 0.46 | f1 = 0.533\n",
      "Порог = 0.46 | f1 = 0.596\n",
      "Порог = 0.47 | f1 = 0.596\n",
      "Порог = 0.47 | f1 = 0.596\n",
      "Порог = 0.48 | f1 = 0.596\n",
      "Порог = 0.48 | f1 = 0.596\n",
      "Порог = 0.48 | f1 = 0.596\n",
      "Порог = 0.49 | f1 = 0.596\n",
      "Порог = 0.49 | f1 = 0.596\n",
      "Порог = 0.50 | f1 = 0.596\n",
      "Порог = 0.51 | f1 = 0.596\n",
      "Порог = 0.51 | f1 = 0.596\n",
      "Порог = 0.52 | f1 = 0.596\n",
      "Порог = 0.52 | f1 = 0.596\n",
      "Порог = 0.53 | f1 = 0.596\n",
      "Порог = 0.53 | f1 = 0.596\n",
      "Порог = 0.54 | f1 = 0.596\n",
      "Порог = 0.54 | f1 = 0.596\n",
      "Порог = 0.55 | f1 = 0.596\n",
      "Порог = 0.55 | f1 = 0.596\n",
      "Порог = 0.56 | f1 = 0.596\n",
      "Порог = 0.56 | f1 = 0.596\n",
      "Порог = 0.57 | f1 = 0.608\n",
      "Порог = 0.57 | f1 = 0.608\n",
      "Порог = 0.58 | f1 = 0.608\n",
      "Порог = 0.58 | f1 = 0.608\n",
      "Порог = 0.58 | f1 = 0.608\n",
      "Порог = 0.59 | f1 = 0.608\n",
      "Порог = 0.59 | f1 = 0.608\n",
      "Порог = 0.60 | f1 = 0.608\n",
      "Порог = 0.60 | f1 = 0.608\n",
      "Порог = 0.61 | f1 = 0.608\n",
      "Порог = 0.61 | f1 = 0.608\n",
      "Порог = 0.62 | f1 = 0.608\n",
      "Порог = 0.62 | f1 = 0.608\n",
      "Порог = 0.63 | f1 = 0.608\n",
      "Порог = 0.64 | f1 = 0.608\n",
      "Порог = 0.64 | f1 = 0.608\n",
      "Порог = 0.65 | f1 = 0.608\n",
      "Порог = 0.65 | f1 = 0.608\n",
      "Порог = 0.66 | f1 = 0.608\n",
      "Порог = 0.66 | f1 = 0.608\n",
      "Порог = 0.67 | f1 = 0.605\n",
      "Порог = 0.67 | f1 = 0.605\n",
      "Порог = 0.68 | f1 = 0.605\n",
      "Порог = 0.68 | f1 = 0.557\n",
      "Порог = 0.69 | f1 = 0.557\n",
      "Порог = 0.69 | f1 = 0.557\n",
      "Порог = 0.70 | f1 = 0.557\n"
     ]
    }
   ],
   "source": [
    "from sklearn.metrics import f1_score\n",
    "model = DecisionTreeClassifier(random_state=12345, max_depth=5, class_weight='balanced')\n",
    "model.fit(features_train, target_train)\n",
    "probabilities_valid = model.predict_proba(features_valid)\n",
    "probabilities_one_valid = probabilities_valid[:, 1]\n",
    "\n",
    "best_f1 = 0\n",
    "best_threshold = 0\n",
    "\n",
    "for threshold in np.arange(0, 0.7, 0.005):\n",
    "    predicted_valid = probabilities_one_valid > threshold\n",
    "    f1_score_val = f1_score(target_valid, predicted_valid)\n",
    "    print(\"Порог = {:.2f} | f1 = {:.3f}\".format(\n",
    "        threshold, f1_score_val))\n",
    "    if best_f1 < f1_score_val:\n",
    "        best_threshold = threshold\n",
    "        best_f1 = f1_score_val"
   ]
  },
  {
   "cell_type": "code",
   "execution_count": 57,
   "metadata": {},
   "outputs": [
    {
     "name": "stdout",
     "output_type": "stream",
     "text": [
      "best f1_score: 0.6082004555808656 ,\n",
      "best threshold : 0.5650000000000001\n"
     ]
    }
   ],
   "source": [
    "print('best f1_score: {} ,\\nbest threshold : {}'.format(best_f1, best_threshold))"
   ]
  },
  {
   "cell_type": "markdown",
   "metadata": {},
   "source": [
    "#### Исследуем `3-ю модель (Случайный лес)`\n",
    "\n",
    "Подбираем оптимальную модель перебирая гиперпараметры, в данном случае `n_estimators`"
   ]
  },
  {
   "cell_type": "code",
   "execution_count": 58,
   "metadata": {},
   "outputs": [
    {
     "name": "stdout",
     "output_type": "stream",
     "text": [
      "number_estimator = 1 : 0.49017341040462425\n",
      "number_estimator = 2 : 0.4422110552763819\n",
      "number_estimator = 3 : 0.5347593582887701\n",
      "number_estimator = 4 : 0.48064516129032253\n",
      "number_estimator = 5 : 0.5505617977528091\n",
      "number_estimator = 6 : 0.514820592823713\n",
      "number_estimator = 7 : 0.5538020086083213\n",
      "number_estimator = 8 : 0.5217391304347826\n",
      "number_estimator = 9 : 0.5552325581395349\n",
      "number_estimator = 10 : 0.5292307692307692\n",
      "number_estimator = 11 : 0.5617647058823529\n",
      "number_estimator = 12 : 0.5421133231240429\n",
      "number_estimator = 13 : 0.5494830132939438\n",
      "number_estimator = 14 : 0.5292307692307692\n",
      "number_estimator = 15 : 0.5446428571428572\n",
      "number_estimator = 16 : 0.5273010920436817\n",
      "number_estimator = 17 : 0.5555555555555555\n",
      "number_estimator = 18 : 0.529595015576324\n",
      "number_estimator = 19 : 0.5361445783132529\n",
      "number_estimator = 20 : 0.5271317829457365\n",
      "number_estimator = 21 : 0.5473684210526316\n",
      "number_estimator = 22 : 0.5267993874425727\n",
      "number_estimator = 23 : 0.5481927710843373\n",
      "number_estimator = 24 : 0.5378670788253478\n",
      "number_estimator = 25 : 0.5399698340874811\n",
      "number_estimator = 26 : 0.5378670788253478\n",
      "number_estimator = 27 : 0.5402124430955993\n",
      "number_estimator = 28 : 0.5360501567398119\n",
      "number_estimator = 29 : 0.5390505359877489\n"
     ]
    }
   ],
   "source": [
    "from sklearn.ensemble import RandomForestRegressor\n",
    "best_model = None\n",
    "best_result = 0\n",
    "for est in range(1, 30):\n",
    "    model = RandomForestClassifier(random_state=12345, n_estimators=est, class_weight='balanced') \n",
    "    model.fit(features_train, target_train) \n",
    "    predictions = model.predict(features_valid)\n",
    "    res = f1_score(target_valid, predictions) \n",
    "    print('number_estimator = {} :'.format(est), res)\n",
    "    if res > best_result:\n",
    "        best_model = model \n",
    "        best_result = res"
   ]
  },
  {
   "cell_type": "code",
   "execution_count": 59,
   "metadata": {},
   "outputs": [
    {
     "name": "stdout",
     "output_type": "stream",
     "text": [
      "f1_score = 0.5617647058823529\n",
      "roc_auc_score = 0.8111302996025865\n"
     ]
    }
   ],
   "source": [
    "predict_valid = best_model.predict(features_valid)\n",
    "probabilities_one_valid = best_model.predict_proba(features_valid)[:,1]\n",
    "print('f1_score =',f1_score(target_valid, predict_valid))\n",
    "print('roc_auc_score =',roc_auc_score(target_valid, probabilities_one_valid))"
   ]
  },
  {
   "cell_type": "code",
   "execution_count": 60,
   "metadata": {},
   "outputs": [
    {
     "data": {
      "text/plain": [
       "['/tmp/tmp4yask5cm/model.joblib.random.forest.weighted']"
      ]
     },
     "execution_count": 60,
     "metadata": {},
     "output_type": "execute_result"
    }
   ],
   "source": [
    "filename_random_forest_weighted = os.path.join(save_dir, 'model.joblib.random.forest.weighted')\n",
    "joblib.dump(best_model, filename_random_forest_weighted)"
   ]
  },
  {
   "cell_type": "code",
   "execution_count": 61,
   "metadata": {},
   "outputs": [
    {
     "name": "stdout",
     "output_type": "stream",
     "text": [
      "Порог = 0.00 | f1 = 0.438\n",
      "Порог = 0.01 | f1 = 0.438\n",
      "Порог = 0.01 | f1 = 0.438\n",
      "Порог = 0.01 | f1 = 0.438\n",
      "Порог = 0.02 | f1 = 0.438\n",
      "Порог = 0.03 | f1 = 0.438\n",
      "Порог = 0.03 | f1 = 0.438\n",
      "Порог = 0.04 | f1 = 0.438\n",
      "Порог = 0.04 | f1 = 0.438\n",
      "Порог = 0.04 | f1 = 0.438\n",
      "Порог = 0.05 | f1 = 0.438\n",
      "Порог = 0.06 | f1 = 0.438\n",
      "Порог = 0.06 | f1 = 0.438\n",
      "Порог = 0.07 | f1 = 0.438\n",
      "Порог = 0.07 | f1 = 0.438\n",
      "Порог = 0.07 | f1 = 0.438\n",
      "Порог = 0.08 | f1 = 0.438\n",
      "Порог = 0.09 | f1 = 0.438\n",
      "Порог = 0.09 | f1 = 0.438\n",
      "Порог = 0.10 | f1 = 0.505\n",
      "Порог = 0.10 | f1 = 0.505\n",
      "Порог = 0.10 | f1 = 0.505\n",
      "Порог = 0.11 | f1 = 0.505\n",
      "Порог = 0.12 | f1 = 0.505\n",
      "Порог = 0.12 | f1 = 0.505\n",
      "Порог = 0.12 | f1 = 0.505\n",
      "Порог = 0.13 | f1 = 0.505\n",
      "Порог = 0.14 | f1 = 0.505\n",
      "Порог = 0.14 | f1 = 0.505\n",
      "Порог = 0.14 | f1 = 0.505\n",
      "Порог = 0.15 | f1 = 0.505\n",
      "Порог = 0.15 | f1 = 0.505\n",
      "Порог = 0.16 | f1 = 0.505\n",
      "Порог = 0.17 | f1 = 0.505\n",
      "Порог = 0.17 | f1 = 0.505\n",
      "Порог = 0.18 | f1 = 0.505\n",
      "Порог = 0.18 | f1 = 0.505\n",
      "Порог = 0.18 | f1 = 0.574\n",
      "Порог = 0.19 | f1 = 0.574\n",
      "Порог = 0.20 | f1 = 0.574\n",
      "Порог = 0.20 | f1 = 0.574\n",
      "Порог = 0.21 | f1 = 0.574\n",
      "Порог = 0.21 | f1 = 0.574\n",
      "Порог = 0.21 | f1 = 0.574\n",
      "Порог = 0.22 | f1 = 0.574\n",
      "Порог = 0.23 | f1 = 0.574\n",
      "Порог = 0.23 | f1 = 0.574\n",
      "Порог = 0.24 | f1 = 0.574\n",
      "Порог = 0.24 | f1 = 0.574\n",
      "Порог = 0.24 | f1 = 0.574\n",
      "Порог = 0.25 | f1 = 0.574\n",
      "Порог = 0.26 | f1 = 0.574\n",
      "Порог = 0.26 | f1 = 0.574\n",
      "Порог = 0.27 | f1 = 0.574\n",
      "Порог = 0.27 | f1 = 0.574\n",
      "Порог = 0.28 | f1 = 0.599\n",
      "Порог = 0.28 | f1 = 0.599\n",
      "Порог = 0.29 | f1 = 0.599\n",
      "Порог = 0.29 | f1 = 0.599\n",
      "Порог = 0.29 | f1 = 0.599\n",
      "Порог = 0.30 | f1 = 0.599\n",
      "Порог = 0.30 | f1 = 0.599\n",
      "Порог = 0.31 | f1 = 0.599\n",
      "Порог = 0.32 | f1 = 0.599\n",
      "Порог = 0.32 | f1 = 0.599\n",
      "Порог = 0.33 | f1 = 0.599\n",
      "Порог = 0.33 | f1 = 0.599\n",
      "Порог = 0.34 | f1 = 0.599\n",
      "Порог = 0.34 | f1 = 0.599\n",
      "Порог = 0.35 | f1 = 0.599\n",
      "Порог = 0.35 | f1 = 0.599\n",
      "Порог = 0.35 | f1 = 0.599\n",
      "Порог = 0.36 | f1 = 0.599\n",
      "Порог = 0.36 | f1 = 0.583\n",
      "Порог = 0.37 | f1 = 0.583\n",
      "Порог = 0.38 | f1 = 0.583\n",
      "Порог = 0.38 | f1 = 0.583\n",
      "Порог = 0.39 | f1 = 0.583\n",
      "Порог = 0.39 | f1 = 0.583\n",
      "Порог = 0.40 | f1 = 0.583\n",
      "Порог = 0.40 | f1 = 0.583\n",
      "Порог = 0.41 | f1 = 0.583\n",
      "Порог = 0.41 | f1 = 0.583\n",
      "Порог = 0.42 | f1 = 0.583\n",
      "Порог = 0.42 | f1 = 0.583\n",
      "Порог = 0.42 | f1 = 0.583\n",
      "Порог = 0.43 | f1 = 0.583\n",
      "Порог = 0.43 | f1 = 0.583\n",
      "Порог = 0.44 | f1 = 0.583\n",
      "Порог = 0.45 | f1 = 0.583\n",
      "Порог = 0.45 | f1 = 0.583\n",
      "Порог = 0.46 | f1 = 0.562\n",
      "Порог = 0.46 | f1 = 0.562\n",
      "Порог = 0.47 | f1 = 0.562\n",
      "Порог = 0.47 | f1 = 0.562\n",
      "Порог = 0.48 | f1 = 0.562\n",
      "Порог = 0.48 | f1 = 0.562\n",
      "Порог = 0.48 | f1 = 0.562\n",
      "Порог = 0.49 | f1 = 0.562\n",
      "Порог = 0.49 | f1 = 0.562\n",
      "Порог = 0.50 | f1 = 0.562\n",
      "Порог = 0.51 | f1 = 0.562\n",
      "Порог = 0.51 | f1 = 0.562\n",
      "Порог = 0.52 | f1 = 0.562\n",
      "Порог = 0.52 | f1 = 0.562\n",
      "Порог = 0.53 | f1 = 0.562\n",
      "Порог = 0.53 | f1 = 0.562\n",
      "Порог = 0.54 | f1 = 0.562\n",
      "Порог = 0.54 | f1 = 0.562\n",
      "Порог = 0.55 | f1 = 0.562\n",
      "Порог = 0.55 | f1 = 0.512\n",
      "Порог = 0.56 | f1 = 0.512\n",
      "Порог = 0.56 | f1 = 0.512\n",
      "Порог = 0.57 | f1 = 0.512\n",
      "Порог = 0.57 | f1 = 0.512\n",
      "Порог = 0.58 | f1 = 0.512\n",
      "Порог = 0.58 | f1 = 0.512\n",
      "Порог = 0.58 | f1 = 0.512\n",
      "Порог = 0.59 | f1 = 0.512\n",
      "Порог = 0.59 | f1 = 0.512\n",
      "Порог = 0.60 | f1 = 0.512\n",
      "Порог = 0.60 | f1 = 0.512\n",
      "Порог = 0.61 | f1 = 0.512\n",
      "Порог = 0.61 | f1 = 0.512\n",
      "Порог = 0.62 | f1 = 0.512\n",
      "Порог = 0.62 | f1 = 0.512\n",
      "Порог = 0.63 | f1 = 0.512\n",
      "Порог = 0.64 | f1 = 0.512\n",
      "Порог = 0.64 | f1 = 0.446\n",
      "Порог = 0.65 | f1 = 0.446\n",
      "Порог = 0.65 | f1 = 0.446\n",
      "Порог = 0.66 | f1 = 0.446\n",
      "Порог = 0.66 | f1 = 0.446\n",
      "Порог = 0.67 | f1 = 0.446\n",
      "Порог = 0.67 | f1 = 0.446\n",
      "Порог = 0.68 | f1 = 0.446\n",
      "Порог = 0.68 | f1 = 0.446\n",
      "Порог = 0.69 | f1 = 0.446\n",
      "Порог = 0.69 | f1 = 0.446\n",
      "Порог = 0.70 | f1 = 0.446\n"
     ]
    }
   ],
   "source": [
    "probabilities_valid = joblib.load(filename_random_forest_weighted).predict_proba(features_valid)\n",
    "probabilities_one_valid = probabilities_valid[:, 1]\n",
    "\n",
    "best_f1 = 0\n",
    "best_threshold = 0\n",
    "\n",
    "for threshold in np.arange(0, 0.7, 0.005):\n",
    "    predicted_valid = probabilities_one_valid > threshold\n",
    "    f1_score_val = f1_score(target_valid, predicted_valid)\n",
    "    print(\"Порог = {:.2f} | f1 = {:.3f}\".format(\n",
    "        threshold, f1_score_val))\n",
    "    if best_f1 < f1_score_val:\n",
    "        best_threshold = threshold\n",
    "        best_f1 = f1_score_val"
   ]
  },
  {
   "cell_type": "code",
   "execution_count": 62,
   "metadata": {},
   "outputs": [
    {
     "name": "stdout",
     "output_type": "stream",
     "text": [
      "best f1_score: 0.5990888382687928 ,\n",
      "best threshold : 0.275\n"
     ]
    }
   ],
   "source": [
    "print('best f1_score: {} ,\\nbest threshold : {}'.format(best_f1, best_threshold))"
   ]
  },
  {
   "cell_type": "markdown",
   "metadata": {},
   "source": [
    "### Попытаемся применить **второй метод борьбы с дисбалансом** а именно `upsampling`, т.е мы будем искуственно увеличивать размер выборки. "
   ]
  },
  {
   "cell_type": "code",
   "execution_count": 63,
   "metadata": {},
   "outputs": [],
   "source": [
    "from sklearn.utils import shuffle"
   ]
  },
  {
   "cell_type": "code",
   "execution_count": 64,
   "metadata": {},
   "outputs": [],
   "source": [
    "def upsample(features, target, repeat):\n",
    "    features_zeros = features[target == 0]\n",
    "    features_ones = features[target == 1]\n",
    "    target_zeros = target[target == 0]\n",
    "    target_ones = target[target == 1]\n",
    "\n",
    "    features_upsampled = pd.concat([features_zeros] + [features_ones] * repeat)\n",
    "    target_upsampled = pd.concat([target_zeros] + [target_ones] * repeat)\n",
    "    \n",
    "    features_upsampled, target_upsampled = shuffle(\n",
    "        features_upsampled, target_upsampled, random_state=12345)\n",
    "    \n",
    "    return features_upsampled, target_upsampled"
   ]
  },
  {
   "cell_type": "code",
   "execution_count": 65,
   "metadata": {},
   "outputs": [],
   "source": [
    "features_upsampled, target_upsampled = upsample(features_train, target_train, 4)"
   ]
  },
  {
   "cell_type": "markdown",
   "metadata": {},
   "source": [
    "#### Теперь применяем полученные данные для обучения `1-ой модели (логистическая регрессия)`"
   ]
  },
  {
   "cell_type": "code",
   "execution_count": 66,
   "metadata": {},
   "outputs": [
    {
     "name": "stdout",
     "output_type": "stream",
     "text": [
      "0.4888507718696398\n",
      "roc_auc_score = 0.763109503444855\n"
     ]
    }
   ],
   "source": [
    "model = LogisticRegression(random_state=12345, solver='liblinear')\n",
    "model.fit(features_upsampled,target_upsampled) \n",
    "predict_valid = model.predict(features_valid)\n",
    "probabilities_one_valid = model.predict_proba(features_valid)[:,1]\n",
    "\n",
    "print(f1_score(target_valid, predict_valid))\n",
    "print('roc_auc_score =',roc_auc_score(target_valid, probabilities_one_valid))"
   ]
  },
  {
   "cell_type": "code",
   "execution_count": 67,
   "metadata": {},
   "outputs": [
    {
     "data": {
      "text/plain": [
       "['/tmp/tmp4yask5cm/model.joblib.log.reg.up']"
      ]
     },
     "execution_count": 67,
     "metadata": {},
     "output_type": "execute_result"
    }
   ],
   "source": [
    "filename_logistic_reg_upsampling = os.path.join(save_dir, 'model.joblib.log.reg.up')\n",
    "joblib.dump(model, filename_logistic_reg_upsampling)"
   ]
  },
  {
   "cell_type": "code",
   "execution_count": 68,
   "metadata": {},
   "outputs": [
    {
     "name": "stdout",
     "output_type": "stream",
     "text": [
      "Порог = 0.00 | f1 = 0.346\n",
      "Порог = 0.01 | f1 = 0.346\n",
      "Порог = 0.01 | f1 = 0.346\n",
      "Порог = 0.01 | f1 = 0.346\n",
      "Порог = 0.02 | f1 = 0.346\n",
      "Порог = 0.03 | f1 = 0.346\n",
      "Порог = 0.03 | f1 = 0.346\n",
      "Порог = 0.04 | f1 = 0.346\n",
      "Порог = 0.04 | f1 = 0.346\n",
      "Порог = 0.04 | f1 = 0.346\n",
      "Порог = 0.05 | f1 = 0.346\n",
      "Порог = 0.06 | f1 = 0.347\n",
      "Порог = 0.06 | f1 = 0.347\n",
      "Порог = 0.07 | f1 = 0.347\n",
      "Порог = 0.07 | f1 = 0.348\n",
      "Порог = 0.07 | f1 = 0.349\n",
      "Порог = 0.08 | f1 = 0.349\n",
      "Порог = 0.09 | f1 = 0.351\n",
      "Порог = 0.09 | f1 = 0.352\n",
      "Порог = 0.10 | f1 = 0.353\n",
      "Порог = 0.10 | f1 = 0.354\n",
      "Порог = 0.10 | f1 = 0.356\n",
      "Порог = 0.11 | f1 = 0.358\n",
      "Порог = 0.12 | f1 = 0.358\n",
      "Порог = 0.12 | f1 = 0.359\n",
      "Порог = 0.12 | f1 = 0.362\n",
      "Порог = 0.13 | f1 = 0.364\n",
      "Порог = 0.14 | f1 = 0.366\n",
      "Порог = 0.14 | f1 = 0.368\n",
      "Порог = 0.14 | f1 = 0.369\n",
      "Порог = 0.15 | f1 = 0.371\n",
      "Порог = 0.15 | f1 = 0.373\n",
      "Порог = 0.16 | f1 = 0.375\n",
      "Порог = 0.17 | f1 = 0.377\n",
      "Порог = 0.17 | f1 = 0.377\n",
      "Порог = 0.18 | f1 = 0.379\n",
      "Порог = 0.18 | f1 = 0.379\n",
      "Порог = 0.18 | f1 = 0.380\n",
      "Порог = 0.19 | f1 = 0.381\n",
      "Порог = 0.20 | f1 = 0.383\n",
      "Порог = 0.20 | f1 = 0.388\n",
      "Порог = 0.21 | f1 = 0.392\n",
      "Порог = 0.21 | f1 = 0.393\n",
      "Порог = 0.21 | f1 = 0.394\n",
      "Порог = 0.22 | f1 = 0.397\n",
      "Порог = 0.23 | f1 = 0.397\n",
      "Порог = 0.23 | f1 = 0.398\n",
      "Порог = 0.24 | f1 = 0.399\n",
      "Порог = 0.24 | f1 = 0.402\n",
      "Порог = 0.24 | f1 = 0.402\n",
      "Порог = 0.25 | f1 = 0.404\n",
      "Порог = 0.26 | f1 = 0.406\n",
      "Порог = 0.26 | f1 = 0.408\n",
      "Порог = 0.27 | f1 = 0.412\n",
      "Порог = 0.27 | f1 = 0.413\n",
      "Порог = 0.28 | f1 = 0.415\n",
      "Порог = 0.28 | f1 = 0.417\n",
      "Порог = 0.29 | f1 = 0.417\n",
      "Порог = 0.29 | f1 = 0.417\n",
      "Порог = 0.29 | f1 = 0.418\n",
      "Порог = 0.30 | f1 = 0.423\n",
      "Порог = 0.30 | f1 = 0.426\n",
      "Порог = 0.31 | f1 = 0.430\n",
      "Порог = 0.32 | f1 = 0.432\n",
      "Порог = 0.32 | f1 = 0.432\n",
      "Порог = 0.33 | f1 = 0.435\n",
      "Порог = 0.33 | f1 = 0.437\n",
      "Порог = 0.34 | f1 = 0.439\n",
      "Порог = 0.34 | f1 = 0.441\n",
      "Порог = 0.35 | f1 = 0.442\n",
      "Порог = 0.35 | f1 = 0.447\n",
      "Порог = 0.35 | f1 = 0.450\n",
      "Порог = 0.36 | f1 = 0.453\n",
      "Порог = 0.36 | f1 = 0.454\n",
      "Порог = 0.37 | f1 = 0.458\n",
      "Порог = 0.38 | f1 = 0.460\n",
      "Порог = 0.38 | f1 = 0.463\n",
      "Порог = 0.39 | f1 = 0.466\n",
      "Порог = 0.39 | f1 = 0.469\n",
      "Порог = 0.40 | f1 = 0.474\n",
      "Порог = 0.40 | f1 = 0.470\n",
      "Порог = 0.41 | f1 = 0.475\n",
      "Порог = 0.41 | f1 = 0.474\n",
      "Порог = 0.42 | f1 = 0.475\n",
      "Порог = 0.42 | f1 = 0.474\n",
      "Порог = 0.42 | f1 = 0.474\n",
      "Порог = 0.43 | f1 = 0.479\n",
      "Порог = 0.43 | f1 = 0.480\n",
      "Порог = 0.44 | f1 = 0.485\n",
      "Порог = 0.45 | f1 = 0.487\n",
      "Порог = 0.45 | f1 = 0.483\n",
      "Порог = 0.46 | f1 = 0.487\n",
      "Порог = 0.46 | f1 = 0.483\n",
      "Порог = 0.47 | f1 = 0.483\n",
      "Порог = 0.47 | f1 = 0.483\n",
      "Порог = 0.48 | f1 = 0.484\n",
      "Порог = 0.48 | f1 = 0.485\n",
      "Порог = 0.48 | f1 = 0.484\n",
      "Порог = 0.49 | f1 = 0.486\n",
      "Порог = 0.49 | f1 = 0.488\n",
      "Порог = 0.50 | f1 = 0.489\n",
      "Порог = 0.51 | f1 = 0.490\n",
      "Порог = 0.51 | f1 = 0.490\n",
      "Порог = 0.52 | f1 = 0.492\n",
      "Порог = 0.52 | f1 = 0.493\n",
      "Порог = 0.53 | f1 = 0.496\n",
      "Порог = 0.53 | f1 = 0.496\n",
      "Порог = 0.54 | f1 = 0.500\n",
      "Порог = 0.54 | f1 = 0.497\n",
      "Порог = 0.55 | f1 = 0.499\n",
      "Порог = 0.55 | f1 = 0.500\n",
      "Порог = 0.56 | f1 = 0.496\n",
      "Порог = 0.56 | f1 = 0.493\n",
      "Порог = 0.57 | f1 = 0.491\n",
      "Порог = 0.57 | f1 = 0.495\n",
      "Порог = 0.58 | f1 = 0.495\n",
      "Порог = 0.58 | f1 = 0.493\n",
      "Порог = 0.58 | f1 = 0.493\n",
      "Порог = 0.59 | f1 = 0.491\n",
      "Порог = 0.59 | f1 = 0.488\n",
      "Порог = 0.60 | f1 = 0.489\n",
      "Порог = 0.60 | f1 = 0.489\n",
      "Порог = 0.61 | f1 = 0.496\n",
      "Порог = 0.61 | f1 = 0.500\n",
      "Порог = 0.62 | f1 = 0.500\n",
      "Порог = 0.62 | f1 = 0.495\n",
      "Порог = 0.63 | f1 = 0.493\n",
      "Порог = 0.64 | f1 = 0.489\n",
      "Порог = 0.64 | f1 = 0.488\n",
      "Порог = 0.65 | f1 = 0.485\n",
      "Порог = 0.65 | f1 = 0.480\n",
      "Порог = 0.66 | f1 = 0.479\n",
      "Порог = 0.66 | f1 = 0.477\n",
      "Порог = 0.67 | f1 = 0.471\n",
      "Порог = 0.67 | f1 = 0.462\n",
      "Порог = 0.68 | f1 = 0.456\n",
      "Порог = 0.68 | f1 = 0.454\n",
      "Порог = 0.69 | f1 = 0.450\n",
      "Порог = 0.69 | f1 = 0.444\n",
      "Порог = 0.70 | f1 = 0.433\n"
     ]
    }
   ],
   "source": [
    "probabilities_valid = joblib.load(filename_logistic_reg_upsampling).predict_proba(features_valid)\n",
    "probabilities_one_valid = probabilities_valid[:, 1]\n",
    "\n",
    "best_f1 = 0\n",
    "best_threshold = 0\n",
    "\n",
    "for threshold in np.arange(0, 0.7, 0.005):\n",
    "    predicted_valid = probabilities_one_valid > threshold\n",
    "    f1_score_val = f1_score(target_valid, predicted_valid)\n",
    "    print(\"Порог = {:.2f} | f1 = {:.3f}\".format(\n",
    "        threshold, f1_score_val))\n",
    "    if best_f1 < f1_score_val:\n",
    "        best_threshold = threshold\n",
    "        best_f1 = f1_score_val"
   ]
  },
  {
   "cell_type": "code",
   "execution_count": 69,
   "metadata": {},
   "outputs": [
    {
     "name": "stdout",
     "output_type": "stream",
     "text": [
      "best f1_score: 0.5000000000000001 ,\n",
      "best threshold : 0.62\n"
     ]
    }
   ],
   "source": [
    "print('best f1_score: {} ,\\nbest threshold : {}'.format(best_f1, best_threshold))"
   ]
  },
  {
   "cell_type": "markdown",
   "metadata": {},
   "source": [
    "#### Теперь применяем полученные данные для обучения `2-ой модели (Дерево решений)`"
   ]
  },
  {
   "cell_type": "code",
   "execution_count": 70,
   "metadata": {},
   "outputs": [
    {
     "name": "stdout",
     "output_type": "stream",
     "text": [
      "max_depth = 1 : 0.4994903160040775\n",
      "max_depth = 2 : 0.541015625\n",
      "max_depth = 3 : 0.541015625\n",
      "max_depth = 4 : 0.5277777777777778\n",
      "max_depth = 5 : 0.5963791267305644\n",
      "max_depth = 6 : 0.5574387947269304\n",
      "max_depth = 7 : 0.5454545454545454\n",
      "max_depth = 8 : 0.5385365853658537\n",
      "max_depth = 9 : 0.5317693059628543\n",
      "max_depth = 10 : 0.5141776937618148\n",
      "max_depth = 11 : 0.5412748171368861\n",
      "max_depth = 12 : 0.5112474437627812\n",
      "max_depth = 13 : 0.5146579804560261\n",
      "max_depth = 14 : 0.4971751412429378\n",
      "max_depth = 15 : 0.502262443438914\n",
      "max_depth = 16 : 0.5\n",
      "max_depth = 17 : 0.49467455621301776\n",
      "max_depth = 18 : 0.4929245283018868\n",
      "max_depth = 19 : 0.47086801426872776\n"
     ]
    }
   ],
   "source": [
    "best_res = 0\n",
    "best_model = None\n",
    "for i in range(1,20):\n",
    "    model = DecisionTreeClassifier(random_state = 12345,max_depth=i)\n",
    "    model.fit(features_upsampled, target_upsampled)\n",
    "    predictions = model.predict(features_valid)\n",
    "    res = f1_score(target_valid, predictions)\n",
    "    print('max_depth = {} :'.format(i), res)\n",
    "    if res > best_res:\n",
    "        best_res = res\n",
    "        best_model = model\n"
   ]
  },
  {
   "cell_type": "code",
   "execution_count": 71,
   "metadata": {},
   "outputs": [
    {
     "name": "stdout",
     "output_type": "stream",
     "text": [
      "f1_score = 0.5963791267305644\n",
      "roc_auc_score = 0.8310244134068074\n"
     ]
    }
   ],
   "source": [
    "predict_valid = best_model.predict(features_valid)\n",
    "probabilities_one_valid = best_model.predict_proba(features_valid)[:,1]\n",
    "print('f1_score =',f1_score(target_valid, predict_valid))\n",
    "print('roc_auc_score =',roc_auc_score(target_valid, probabilities_one_valid))"
   ]
  },
  {
   "cell_type": "code",
   "execution_count": 72,
   "metadata": {},
   "outputs": [
    {
     "data": {
      "text/plain": [
       "['/tmp/tmp4yask5cm/model.joblib.decision_tree.up']"
      ]
     },
     "execution_count": 72,
     "metadata": {},
     "output_type": "execute_result"
    }
   ],
   "source": [
    "filename_decision_tree_upsample = os.path.join(save_dir, 'model.joblib.decision_tree.up')\n",
    "joblib.dump(best_model, filename_decision_tree_upsample)"
   ]
  },
  {
   "cell_type": "code",
   "execution_count": 73,
   "metadata": {},
   "outputs": [
    {
     "name": "stdout",
     "output_type": "stream",
     "text": [
      "Порог = 0.00 | f1 = 0.345\n",
      "Порог = 0.01 | f1 = 0.345\n",
      "Порог = 0.01 | f1 = 0.345\n",
      "Порог = 0.01 | f1 = 0.345\n",
      "Порог = 0.02 | f1 = 0.345\n",
      "Порог = 0.03 | f1 = 0.345\n",
      "Порог = 0.03 | f1 = 0.383\n",
      "Порог = 0.04 | f1 = 0.383\n",
      "Порог = 0.04 | f1 = 0.383\n",
      "Порог = 0.04 | f1 = 0.383\n",
      "Порог = 0.05 | f1 = 0.383\n",
      "Порог = 0.06 | f1 = 0.383\n",
      "Порог = 0.06 | f1 = 0.383\n",
      "Порог = 0.07 | f1 = 0.383\n",
      "Порог = 0.07 | f1 = 0.383\n",
      "Порог = 0.07 | f1 = 0.383\n",
      "Порог = 0.08 | f1 = 0.383\n",
      "Порог = 0.09 | f1 = 0.383\n",
      "Порог = 0.09 | f1 = 0.383\n",
      "Порог = 0.10 | f1 = 0.383\n",
      "Порог = 0.10 | f1 = 0.383\n",
      "Порог = 0.10 | f1 = 0.383\n",
      "Порог = 0.11 | f1 = 0.383\n",
      "Порог = 0.12 | f1 = 0.383\n",
      "Порог = 0.12 | f1 = 0.383\n",
      "Порог = 0.12 | f1 = 0.401\n",
      "Порог = 0.13 | f1 = 0.401\n",
      "Порог = 0.14 | f1 = 0.401\n",
      "Порог = 0.14 | f1 = 0.401\n",
      "Порог = 0.14 | f1 = 0.401\n",
      "Порог = 0.15 | f1 = 0.401\n",
      "Порог = 0.15 | f1 = 0.401\n",
      "Порог = 0.16 | f1 = 0.412\n",
      "Порог = 0.17 | f1 = 0.413\n",
      "Порог = 0.17 | f1 = 0.413\n",
      "Порог = 0.18 | f1 = 0.413\n",
      "Порог = 0.18 | f1 = 0.413\n",
      "Порог = 0.18 | f1 = 0.413\n",
      "Порог = 0.19 | f1 = 0.413\n",
      "Порог = 0.20 | f1 = 0.448\n",
      "Порог = 0.20 | f1 = 0.448\n",
      "Порог = 0.21 | f1 = 0.448\n",
      "Порог = 0.21 | f1 = 0.448\n",
      "Порог = 0.21 | f1 = 0.448\n",
      "Порог = 0.22 | f1 = 0.448\n",
      "Порог = 0.23 | f1 = 0.448\n",
      "Порог = 0.23 | f1 = 0.448\n",
      "Порог = 0.24 | f1 = 0.448\n",
      "Порог = 0.24 | f1 = 0.448\n",
      "Порог = 0.24 | f1 = 0.485\n",
      "Порог = 0.25 | f1 = 0.485\n",
      "Порог = 0.26 | f1 = 0.485\n",
      "Порог = 0.26 | f1 = 0.485\n",
      "Порог = 0.27 | f1 = 0.485\n",
      "Порог = 0.27 | f1 = 0.485\n",
      "Порог = 0.28 | f1 = 0.485\n",
      "Порог = 0.28 | f1 = 0.485\n",
      "Порог = 0.29 | f1 = 0.485\n",
      "Порог = 0.29 | f1 = 0.485\n",
      "Порог = 0.29 | f1 = 0.485\n",
      "Порог = 0.30 | f1 = 0.485\n",
      "Порог = 0.30 | f1 = 0.485\n",
      "Порог = 0.31 | f1 = 0.485\n",
      "Порог = 0.32 | f1 = 0.485\n",
      "Порог = 0.32 | f1 = 0.485\n",
      "Порог = 0.33 | f1 = 0.485\n",
      "Порог = 0.33 | f1 = 0.485\n",
      "Порог = 0.34 | f1 = 0.485\n",
      "Порог = 0.34 | f1 = 0.485\n",
      "Порог = 0.35 | f1 = 0.485\n",
      "Порог = 0.35 | f1 = 0.485\n",
      "Порог = 0.35 | f1 = 0.507\n",
      "Порог = 0.36 | f1 = 0.507\n",
      "Порог = 0.36 | f1 = 0.507\n",
      "Порог = 0.37 | f1 = 0.507\n",
      "Порог = 0.38 | f1 = 0.507\n",
      "Порог = 0.38 | f1 = 0.507\n",
      "Порог = 0.39 | f1 = 0.507\n",
      "Порог = 0.39 | f1 = 0.507\n",
      "Порог = 0.40 | f1 = 0.507\n",
      "Порог = 0.40 | f1 = 0.507\n",
      "Порог = 0.41 | f1 = 0.507\n",
      "Порог = 0.41 | f1 = 0.507\n",
      "Порог = 0.42 | f1 = 0.507\n",
      "Порог = 0.42 | f1 = 0.507\n",
      "Порог = 0.42 | f1 = 0.515\n",
      "Порог = 0.43 | f1 = 0.515\n",
      "Порог = 0.43 | f1 = 0.515\n",
      "Порог = 0.44 | f1 = 0.535\n",
      "Порог = 0.45 | f1 = 0.533\n",
      "Порог = 0.45 | f1 = 0.533\n",
      "Порог = 0.46 | f1 = 0.596\n",
      "Порог = 0.46 | f1 = 0.596\n",
      "Порог = 0.47 | f1 = 0.596\n",
      "Порог = 0.47 | f1 = 0.596\n",
      "Порог = 0.48 | f1 = 0.596\n",
      "Порог = 0.48 | f1 = 0.596\n",
      "Порог = 0.48 | f1 = 0.596\n",
      "Порог = 0.49 | f1 = 0.596\n",
      "Порог = 0.49 | f1 = 0.596\n",
      "Порог = 0.50 | f1 = 0.596\n",
      "Порог = 0.51 | f1 = 0.596\n",
      "Порог = 0.51 | f1 = 0.596\n",
      "Порог = 0.52 | f1 = 0.596\n",
      "Порог = 0.52 | f1 = 0.596\n",
      "Порог = 0.53 | f1 = 0.596\n",
      "Порог = 0.53 | f1 = 0.596\n",
      "Порог = 0.54 | f1 = 0.596\n",
      "Порог = 0.54 | f1 = 0.596\n",
      "Порог = 0.55 | f1 = 0.596\n",
      "Порог = 0.55 | f1 = 0.596\n",
      "Порог = 0.56 | f1 = 0.596\n",
      "Порог = 0.56 | f1 = 0.596\n",
      "Порог = 0.57 | f1 = 0.608\n",
      "Порог = 0.57 | f1 = 0.608\n",
      "Порог = 0.58 | f1 = 0.608\n",
      "Порог = 0.58 | f1 = 0.608\n",
      "Порог = 0.58 | f1 = 0.608\n",
      "Порог = 0.59 | f1 = 0.608\n",
      "Порог = 0.59 | f1 = 0.608\n",
      "Порог = 0.60 | f1 = 0.608\n",
      "Порог = 0.60 | f1 = 0.608\n",
      "Порог = 0.61 | f1 = 0.608\n",
      "Порог = 0.61 | f1 = 0.608\n",
      "Порог = 0.62 | f1 = 0.608\n",
      "Порог = 0.62 | f1 = 0.608\n",
      "Порог = 0.63 | f1 = 0.608\n",
      "Порог = 0.64 | f1 = 0.608\n",
      "Порог = 0.64 | f1 = 0.608\n",
      "Порог = 0.65 | f1 = 0.608\n",
      "Порог = 0.65 | f1 = 0.608\n",
      "Порог = 0.66 | f1 = 0.608\n",
      "Порог = 0.66 | f1 = 0.608\n",
      "Порог = 0.67 | f1 = 0.605\n",
      "Порог = 0.67 | f1 = 0.605\n",
      "Порог = 0.68 | f1 = 0.557\n",
      "Порог = 0.68 | f1 = 0.557\n",
      "Порог = 0.69 | f1 = 0.557\n",
      "Порог = 0.69 | f1 = 0.557\n",
      "Порог = 0.70 | f1 = 0.557\n"
     ]
    }
   ],
   "source": [
    "probabilities_valid = joblib.load(filename_decision_tree_upsample).predict_proba(features_valid)\n",
    "probabilities_one_valid = probabilities_valid[:, 1]\n",
    "\n",
    "best_f1 = 0\n",
    "best_threshold = 0\n",
    "\n",
    "for threshold in np.arange(0, 0.7, 0.005):\n",
    "    predicted_valid = probabilities_one_valid > threshold\n",
    "    f1_score_val = f1_score(target_valid, predicted_valid)\n",
    "    print(\"Порог = {:.2f} | f1 = {:.3f}\".format(\n",
    "        threshold, f1_score_val))\n",
    "    if best_f1 < f1_score_val:\n",
    "        best_threshold = threshold\n",
    "        best_f1 = f1_score_val"
   ]
  },
  {
   "cell_type": "code",
   "execution_count": 74,
   "metadata": {},
   "outputs": [
    {
     "name": "stdout",
     "output_type": "stream",
     "text": [
      "best f1_score: 0.6082004555808656 ,\n",
      "best threshold : 0.5650000000000001\n"
     ]
    }
   ],
   "source": [
    "print('best f1_score: {} ,\\nbest threshold : {}'.format(best_f1, best_threshold))"
   ]
  },
  {
   "cell_type": "markdown",
   "metadata": {},
   "source": [
    "#### Теперь применяем полученные данные для обучения 3-ей модели (Дерево решений)"
   ]
  },
  {
   "cell_type": "code",
   "execution_count": 75,
   "metadata": {},
   "outputs": [
    {
     "name": "stdout",
     "output_type": "stream",
     "text": [
      "number_estimator = 1 : 0.4878587196467991\n",
      "number_estimator = 2 : 0.42771084337349397\n",
      "number_estimator = 3 : 0.540410132689988\n",
      "number_estimator = 4 : 0.5354107648725213\n",
      "number_estimator = 5 : 0.5738916256157636\n",
      "number_estimator = 6 : 0.5596707818930041\n",
      "number_estimator = 7 : 0.5808080808080809\n",
      "number_estimator = 8 : 0.5953991880920162\n",
      "number_estimator = 9 : 0.6038216560509554\n",
      "number_estimator = 10 : 0.5959183673469388\n",
      "number_estimator = 11 : 0.6051282051282051\n",
      "number_estimator = 12 : 0.6054054054054053\n",
      "number_estimator = 13 : 0.6010230179028133\n",
      "number_estimator = 14 : 0.5978552278820375\n",
      "number_estimator = 15 : 0.6090322580645161\n",
      "number_estimator = 16 : 0.6037735849056604\n",
      "number_estimator = 17 : 0.6030927835051547\n",
      "number_estimator = 18 : 0.6002691790040375\n",
      "number_estimator = 19 : 0.6049543676662321\n",
      "number_estimator = 20 : 0.6099865047233469\n",
      "number_estimator = 21 : 0.6093750000000001\n",
      "number_estimator = 22 : 0.5972972972972973\n",
      "number_estimator = 23 : 0.6020942408376964\n",
      "number_estimator = 24 : 0.5964912280701755\n",
      "number_estimator = 25 : 0.5950196592398428\n",
      "number_estimator = 26 : 0.5983827493261457\n",
      "number_estimator = 27 : 0.6013071895424836\n",
      "number_estimator = 28 : 0.6029609690444145\n",
      "number_estimator = 29 : 0.607095926412615\n"
     ]
    }
   ],
   "source": [
    "best_model = None\n",
    "best_result = 0\n",
    "for est in range(1, 30):\n",
    "    model = RandomForestClassifier(random_state=12345, n_estimators=est) \n",
    "    model.fit(features_upsampled, target_upsampled) \n",
    "    predictions = model.predict(features_valid)\n",
    "    res = f1_score(target_valid, predictions) \n",
    "    print('number_estimator = {} :'.format(est), res)\n",
    "    if res > best_result:\n",
    "        best_model = model \n",
    "        best_result = res"
   ]
  },
  {
   "cell_type": "code",
   "execution_count": 76,
   "metadata": {},
   "outputs": [
    {
     "name": "stdout",
     "output_type": "stream",
     "text": [
      "f1_score = 0.6099865047233469\n",
      "roc_auc_score = 0.8250397715931017\n"
     ]
    }
   ],
   "source": [
    "predict_valid = best_model.predict(features_valid)\n",
    "probabilities_one_valid = best_model.predict_proba(features_valid)[:,1]\n",
    "print('f1_score =',f1_score(target_valid, predict_valid))\n",
    "print('roc_auc_score =',roc_auc_score(target_valid, probabilities_one_valid))"
   ]
  },
  {
   "cell_type": "code",
   "execution_count": 77,
   "metadata": {},
   "outputs": [
    {
     "data": {
      "text/plain": [
       "['/tmp/tmp4yask5cm/model.joblib.random_forest.up']"
      ]
     },
     "execution_count": 77,
     "metadata": {},
     "output_type": "execute_result"
    }
   ],
   "source": [
    "filename_random_forest_upsample = os.path.join(save_dir, 'model.joblib.random_forest.up')\n",
    "joblib.dump(best_model, filename_random_forest_upsample)"
   ]
  },
  {
   "cell_type": "code",
   "execution_count": 78,
   "metadata": {},
   "outputs": [
    {
     "name": "stdout",
     "output_type": "stream",
     "text": [
      "Порог = 0.00 | f1 = 0.394\n",
      "Порог = 0.01 | f1 = 0.394\n",
      "Порог = 0.01 | f1 = 0.394\n",
      "Порог = 0.01 | f1 = 0.394\n",
      "Порог = 0.02 | f1 = 0.394\n",
      "Порог = 0.03 | f1 = 0.394\n",
      "Порог = 0.03 | f1 = 0.394\n",
      "Порог = 0.04 | f1 = 0.394\n",
      "Порог = 0.04 | f1 = 0.394\n",
      "Порог = 0.04 | f1 = 0.394\n",
      "Порог = 0.05 | f1 = 0.431\n",
      "Порог = 0.06 | f1 = 0.431\n",
      "Порог = 0.06 | f1 = 0.431\n",
      "Порог = 0.07 | f1 = 0.431\n",
      "Порог = 0.07 | f1 = 0.431\n",
      "Порог = 0.07 | f1 = 0.431\n",
      "Порог = 0.08 | f1 = 0.431\n",
      "Порог = 0.09 | f1 = 0.431\n",
      "Порог = 0.09 | f1 = 0.431\n",
      "Порог = 0.10 | f1 = 0.431\n",
      "Порог = 0.10 | f1 = 0.469\n",
      "Порог = 0.10 | f1 = 0.469\n",
      "Порог = 0.11 | f1 = 0.469\n",
      "Порог = 0.12 | f1 = 0.469\n",
      "Порог = 0.12 | f1 = 0.469\n",
      "Порог = 0.12 | f1 = 0.469\n",
      "Порог = 0.13 | f1 = 0.469\n",
      "Порог = 0.14 | f1 = 0.469\n",
      "Порог = 0.14 | f1 = 0.469\n",
      "Порог = 0.14 | f1 = 0.469\n",
      "Порог = 0.15 | f1 = 0.498\n",
      "Порог = 0.15 | f1 = 0.498\n",
      "Порог = 0.16 | f1 = 0.498\n",
      "Порог = 0.17 | f1 = 0.498\n",
      "Порог = 0.17 | f1 = 0.498\n",
      "Порог = 0.18 | f1 = 0.498\n",
      "Порог = 0.18 | f1 = 0.498\n",
      "Порог = 0.18 | f1 = 0.498\n",
      "Порог = 0.19 | f1 = 0.498\n",
      "Порог = 0.20 | f1 = 0.498\n",
      "Порог = 0.20 | f1 = 0.525\n",
      "Порог = 0.21 | f1 = 0.525\n",
      "Порог = 0.21 | f1 = 0.525\n",
      "Порог = 0.21 | f1 = 0.525\n",
      "Порог = 0.22 | f1 = 0.525\n",
      "Порог = 0.23 | f1 = 0.525\n",
      "Порог = 0.23 | f1 = 0.525\n",
      "Порог = 0.24 | f1 = 0.525\n",
      "Порог = 0.24 | f1 = 0.525\n",
      "Порог = 0.24 | f1 = 0.525\n",
      "Порог = 0.25 | f1 = 0.554\n",
      "Порог = 0.26 | f1 = 0.554\n",
      "Порог = 0.26 | f1 = 0.554\n",
      "Порог = 0.27 | f1 = 0.554\n",
      "Порог = 0.27 | f1 = 0.554\n",
      "Порог = 0.28 | f1 = 0.554\n",
      "Порог = 0.28 | f1 = 0.554\n",
      "Порог = 0.29 | f1 = 0.554\n",
      "Порог = 0.29 | f1 = 0.554\n",
      "Порог = 0.29 | f1 = 0.554\n",
      "Порог = 0.30 | f1 = 0.579\n",
      "Порог = 0.30 | f1 = 0.579\n",
      "Порог = 0.31 | f1 = 0.579\n",
      "Порог = 0.32 | f1 = 0.579\n",
      "Порог = 0.32 | f1 = 0.579\n",
      "Порог = 0.33 | f1 = 0.579\n",
      "Порог = 0.33 | f1 = 0.579\n",
      "Порог = 0.34 | f1 = 0.579\n",
      "Порог = 0.34 | f1 = 0.579\n",
      "Порог = 0.35 | f1 = 0.579\n",
      "Порог = 0.35 | f1 = 0.599\n",
      "Порог = 0.35 | f1 = 0.599\n",
      "Порог = 0.36 | f1 = 0.599\n",
      "Порог = 0.36 | f1 = 0.599\n",
      "Порог = 0.37 | f1 = 0.599\n",
      "Порог = 0.38 | f1 = 0.599\n",
      "Порог = 0.38 | f1 = 0.599\n",
      "Порог = 0.39 | f1 = 0.599\n",
      "Порог = 0.39 | f1 = 0.599\n",
      "Порог = 0.40 | f1 = 0.599\n",
      "Порог = 0.40 | f1 = 0.613\n",
      "Порог = 0.41 | f1 = 0.613\n",
      "Порог = 0.41 | f1 = 0.613\n",
      "Порог = 0.42 | f1 = 0.613\n",
      "Порог = 0.42 | f1 = 0.613\n",
      "Порог = 0.42 | f1 = 0.613\n",
      "Порог = 0.43 | f1 = 0.613\n",
      "Порог = 0.43 | f1 = 0.613\n",
      "Порог = 0.44 | f1 = 0.613\n",
      "Порог = 0.45 | f1 = 0.613\n",
      "Порог = 0.45 | f1 = 0.606\n",
      "Порог = 0.46 | f1 = 0.606\n",
      "Порог = 0.46 | f1 = 0.606\n",
      "Порог = 0.47 | f1 = 0.606\n",
      "Порог = 0.47 | f1 = 0.606\n",
      "Порог = 0.48 | f1 = 0.606\n",
      "Порог = 0.48 | f1 = 0.606\n",
      "Порог = 0.48 | f1 = 0.606\n",
      "Порог = 0.49 | f1 = 0.606\n",
      "Порог = 0.49 | f1 = 0.606\n",
      "Порог = 0.50 | f1 = 0.610\n",
      "Порог = 0.51 | f1 = 0.610\n",
      "Порог = 0.51 | f1 = 0.610\n",
      "Порог = 0.52 | f1 = 0.610\n",
      "Порог = 0.52 | f1 = 0.610\n",
      "Порог = 0.53 | f1 = 0.610\n",
      "Порог = 0.53 | f1 = 0.610\n",
      "Порог = 0.54 | f1 = 0.610\n",
      "Порог = 0.54 | f1 = 0.610\n",
      "Порог = 0.55 | f1 = 0.610\n",
      "Порог = 0.55 | f1 = 0.589\n",
      "Порог = 0.56 | f1 = 0.589\n",
      "Порог = 0.56 | f1 = 0.589\n",
      "Порог = 0.57 | f1 = 0.589\n",
      "Порог = 0.57 | f1 = 0.589\n",
      "Порог = 0.58 | f1 = 0.589\n",
      "Порог = 0.58 | f1 = 0.589\n",
      "Порог = 0.58 | f1 = 0.589\n",
      "Порог = 0.59 | f1 = 0.589\n",
      "Порог = 0.59 | f1 = 0.589\n",
      "Порог = 0.60 | f1 = 0.567\n",
      "Порог = 0.60 | f1 = 0.567\n",
      "Порог = 0.61 | f1 = 0.567\n",
      "Порог = 0.61 | f1 = 0.567\n",
      "Порог = 0.62 | f1 = 0.567\n",
      "Порог = 0.62 | f1 = 0.567\n",
      "Порог = 0.63 | f1 = 0.567\n",
      "Порог = 0.64 | f1 = 0.567\n",
      "Порог = 0.64 | f1 = 0.567\n",
      "Порог = 0.65 | f1 = 0.567\n",
      "Порог = 0.65 | f1 = 0.546\n",
      "Порог = 0.66 | f1 = 0.546\n",
      "Порог = 0.66 | f1 = 0.546\n",
      "Порог = 0.67 | f1 = 0.546\n",
      "Порог = 0.67 | f1 = 0.546\n",
      "Порог = 0.68 | f1 = 0.546\n",
      "Порог = 0.68 | f1 = 0.546\n",
      "Порог = 0.69 | f1 = 0.546\n",
      "Порог = 0.69 | f1 = 0.546\n",
      "Порог = 0.70 | f1 = 0.546\n"
     ]
    }
   ],
   "source": [
    "probabilities_valid = joblib.load(filename_random_forest_upsample).predict_proba(features_valid)\n",
    "probabilities_one_valid = probabilities_valid[:, 1]\n",
    "\n",
    "best_f1 = 0\n",
    "best_threshold = 0\n",
    "\n",
    "for threshold in np.arange(0, 0.7, 0.005):\n",
    "    predicted_valid = probabilities_one_valid > threshold\n",
    "    f1_score_val = f1_score(target_valid, predicted_valid)\n",
    "    print(\"Порог = {:.2f} | f1 = {:.3f}\".format(\n",
    "        threshold, f1_score_val))\n",
    "    if best_f1 < f1_score_val:\n",
    "        best_threshold = threshold\n",
    "        best_f1 = f1_score_val"
   ]
  },
  {
   "cell_type": "code",
   "execution_count": 79,
   "metadata": {},
   "outputs": [
    {
     "name": "stdout",
     "output_type": "stream",
     "text": [
      "best f1_score: 0.6127167630057804 ,\n",
      "best threshold : 0.4\n"
     ]
    }
   ],
   "source": [
    "print('best f1_score: {} ,\\nbest threshold : {}'.format(best_f1, best_threshold))"
   ]
  },
  {
   "cell_type": "markdown",
   "metadata": {},
   "source": [
    "**Вывод**\n",
    "\n",
    "Самой лучшей моделью **в случае с применением параметра class_weight = 'balanced'**, оказался алгоритм DecisionTreeClassifier, значения f1_score и aug_roc которого оказались максимальными среди трёх представленных алгоритмов и равны соответсвенно **f1_score = 0.5963791267305644, roc_auc_score = 0.8310244134068074**, также при изменение threshold эти значения становятся чуть лучше. **В случае с upsampling-ом** лучшей моделью оказался алгоритм RandomForest, значения которого превышают DecisionTreeClassifier, и являются лучшими среди всех методов борьбы с дисбалансом и равны соответственно **f1_score = 0.609597924773022, roc_auc_score = 0.8284286742600669**. Значения f1_score в обоих случаях удовлетворяют условиям задачи, поэтому теперь стоит проверить как наша модель справляется с тестовой выборкой."
   ]
  },
  {
   "cell_type": "markdown",
   "metadata": {},
   "source": [
    "## 4. Тестирование модели"
   ]
  },
  {
   "cell_type": "markdown",
   "metadata": {},
   "source": [
    "Протестируем 2 лидирующие модели дабы удостовериться в лидерстве одной из них(или в их равенстве)"
   ]
  },
  {
   "cell_type": "code",
   "execution_count": 80,
   "metadata": {},
   "outputs": [],
   "source": [
    "features_test = df_test.drop(['exited'], axis=1)\n",
    "target_test = df_test['exited']"
   ]
  },
  {
   "cell_type": "markdown",
   "metadata": {},
   "source": [
    "Обьединяю train и test для DecisionTreeClassifier, чтобы обучить ее с уже известными параметрами на обьединенной выборке"
   ]
  },
  {
   "cell_type": "code",
   "execution_count": 81,
   "metadata": {},
   "outputs": [],
   "source": [
    "features_train_valid =  pd.concat([features_train] + [features_valid])\n",
    "target_train_valid = pd.concat([target_train] + [target_valid])"
   ]
  },
  {
   "cell_type": "markdown",
   "metadata": {},
   "source": [
    "Также создаю **upsampling** train и test, чтобы применить RandomForestClassifier, который у нас испльзуется с подобранными параметрами, но без параметра class_weight='balanced'"
   ]
  },
  {
   "cell_type": "code",
   "execution_count": 82,
   "metadata": {},
   "outputs": [],
   "source": [
    "features_upsampled_train_valid, target_upsampled_train_valid = upsample(\n",
    "    features_train_valid, target_train_valid, 4)"
   ]
  },
  {
   "cell_type": "markdown",
   "metadata": {},
   "source": [
    "Теперь обучим DecisionTree, о прежде посмотрим на параметры уже обученной модели, чтобы их задать в новой модели"
   ]
  },
  {
   "cell_type": "code",
   "execution_count": 83,
   "metadata": {},
   "outputs": [
    {
     "data": {
      "text/plain": [
       "DecisionTreeClassifier(class_weight='balanced', max_depth=5, random_state=12345)"
      ]
     },
     "execution_count": 83,
     "metadata": {},
     "output_type": "execute_result"
    }
   ],
   "source": [
    "joblib.load(filename_decision_tree_weighted)"
   ]
  },
  {
   "cell_type": "code",
   "execution_count": 84,
   "metadata": {},
   "outputs": [],
   "source": [
    "model = DecisionTreeClassifier(class_weight='balanced', max_depth=5, random_state=12345)"
   ]
  },
  {
   "cell_type": "code",
   "execution_count": 85,
   "metadata": {},
   "outputs": [
    {
     "data": {
      "text/plain": [
       "DecisionTreeClassifier(class_weight='balanced', max_depth=5, random_state=12345)"
      ]
     },
     "execution_count": 85,
     "metadata": {},
     "output_type": "execute_result"
    }
   ],
   "source": [
    "model.fit(features_train_valid, target_train_valid)"
   ]
  },
  {
   "cell_type": "code",
   "execution_count": 86,
   "metadata": {},
   "outputs": [
    {
     "name": "stdout",
     "output_type": "stream",
     "text": [
      "f1_score = 0.5828377230246389\n",
      "roc_auc_score = 0.8449707752248262\n"
     ]
    }
   ],
   "source": [
    "predict_test = model.predict(features_test)\n",
    "probabilities_one_valid = model.predict_proba(features_test)[:,1]\n",
    "print('f1_score =',f1_score(target_test, predict_test))\n",
    "print('roc_auc_score =',roc_auc_score(target_test, probabilities_one_valid))\n"
   ]
  },
  {
   "cell_type": "markdown",
   "metadata": {},
   "source": [
    "Посмотрим на важность факторов для нашей модели"
   ]
  },
  {
   "cell_type": "code",
   "execution_count": 87,
   "metadata": {},
   "outputs": [
    {
     "data": {
      "image/png": "[encoded data removed]",
      "text/plain": [
       "<Figure size 432x288 with 1 Axes>"
      ]
     },
     "metadata": {
      "needs_background": "light"
     },
     "output_type": "display_data"
    }
   ],
   "source": [
    "import matplotlib.pyplot as plt\n",
    "importances = model.feature_importances_\n",
    "feature_names = [f'{i}' for i in features_test.columns]\n",
    "forest_importances = pd.Series(importances, index=feature_names)\n",
    "\n",
    "fig, ax = plt.subplots()\n",
    "forest_importances.plot.bar(ax=ax)\n",
    "ax.set_title(\"Feature importances\")\n",
    "ax.set_ylabel(\"Mean decrease in impurity\")данных\n",
    "fig.tight_layout()"
   ]
  },
  {
   "cell_type": "markdown",
   "metadata": {},
   "source": [
    "Метрика получилась лучше после обьединения данных"
   ]
  },
  {
   "cell_type": "markdown",
   "metadata": {},
   "source": [
    "Теперь обучим RandomForest"
   ]
  },
  {
   "cell_type": "code",
   "execution_count": 88,
   "metadata": {},
   "outputs": [
    {
     "data": {
      "text/plain": [
       "RandomForestClassifier(n_estimators=20, random_state=12345)"
      ]
     },
     "execution_count": 88,
     "metadata": {},
     "output_type": "execute_result"
    }
   ],
   "source": [
    "joblib.load(filename_random_forest_upsample)"
   ]
  },
  {
   "cell_type": "code",
   "execution_count": 89,
   "metadata": {},
   "outputs": [],
   "source": [
    "model = RandomForestClassifier(random_state=12345, n_estimators=17)"
   ]
  },
  {
   "cell_type": "code",
   "execution_count": 90,
   "metadata": {},
   "outputs": [
    {
     "data": {
      "text/plain": [
       "RandomForestClassifier(n_estimators=17, random_state=12345)"
      ]
     },
     "execution_count": 90,
     "metadata": {},
     "output_type": "execute_result"
    }
   ],
   "source": [
    "model.fit(features_upsampled_train_valid, target_upsampled_train_valid)"
   ]
  },
  {
   "cell_type": "code",
   "execution_count": 91,
   "metadata": {},
   "outputs": [
    {
     "name": "stdout",
     "output_type": "stream",
     "text": [
      "f1_score = 0.5822784810126582\n",
      "roc_auc_score = 0.8352409263781516\n"
     ]
    }
   ],
   "source": [
    "predict_test = model.predict(features_test)\n",
    "probabilities_one_valid = model.predict_proba(features_test)[:,1]\n",
    "print('f1_score =',f1_score(target_test, predict_test))\n",
    "print('roc_auc_score =',roc_auc_score(target_test, probabilities_one_valid))\n"
   ]
  },
  {
   "cell_type": "markdown",
   "metadata": {},
   "source": [
    "Посмотрим на важность параметров модели"
   ]
  },
  {
   "cell_type": "code",
   "execution_count": 92,
   "metadata": {},
   "outputs": [
    {
     "data": {
      "image/png": "[encoded data removed]",
      "text/plain": [
       "<Figure size 432x288 with 1 Axes>"
      ]
     },
     "metadata": {
      "needs_background": "light"
     },
     "output_type": "display_data"
    }
   ],
   "source": [
    "importances = model.feature_importances_\n",
    "feature_names = [f'{i}' for i in features_test.columns]\n",
    "forest_importances = pd.Series(importances, index=feature_names)\n",
    "\n",
    "fig, ax = plt.subplots()\n",
    "forest_importances.plot.bar(ax=ax)\n",
    "ax.set_title(\"Feature importances\")\n",
    "ax.set_ylabel(\"Mean decrease in impurity\")\n",
    "fig.tight_layout() "
   ]
  },
  {
   "cell_type": "markdown",
   "metadata": {},
   "source": [
    "Предсказания стали чуть хуже нежели которые были получены в предыдущем пунке, также стоит отметить что в обеих случая метрики оказались равны, поэтому в данном случае обе модели оказались равноценны."
   ]
  },
  {
   "cell_type": "markdown",
   "metadata": {},
   "source": [
    "**Вывод**\n",
    "\n",
    "Обе модели ведут себя одинаково 'в бою' и применение любой из них к тестовым данным равноценно. Также можно заметить значительную разницу в важности параметров для разных моделей, в случае RandomForest принимаются во внимание все параметры в отличие от DecisionTree, что скорее всего не может не скзаать на скорости работы самой модели\n"
   ]
  }
 ],
 "metadata": {
  "kernelspec": {
   "display_name": "Python 3 (ipykernel)",
   "language": "python",
   "name": "python3"
  },
  "language_info": {
   "codemirror_mode": {
    "name": "ipython",
    "version": 3
   },
   "file_extension": ".py",
   "mimetype": "text/x-python",
   "name": "python",
   "nbconvert_exporter": "python",
   "pygments_lexer": "ipython3",
   "version": "3.9.12"
  },
  "toc": {
   "base_numbering": 1,
   "nav_menu": {},
   "number_sections": true,
   "sideBar": true,
   "skip_h1_title": true,
   "title_cell": "Содержание",
   "title_sidebar": "Contents",
   "toc_cell": true,
   "toc_position": {},
   "toc_section_display": true,
   "toc_window_display": true
  }
 },
 "nbformat": 4,
 "nbformat_minor": 2
}
